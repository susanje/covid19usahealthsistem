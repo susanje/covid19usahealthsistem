{
 "cells": [
  {
   "cell_type": "code",
   "execution_count": 3,
   "metadata": {},
   "outputs": [],
   "source": [
    "import pandas as pd\n",
    "from sodapy import Socrata\n",
    "import numpy as np\n"
   ]
  },
  {
   "cell_type": "code",
   "execution_count": 4,
   "metadata": {},
   "outputs": [
    {
     "name": "stderr",
     "output_type": "stream",
     "text": [
      "WARNING:root:Requests made without an app_token will be subject to strict throttling limits.\n"
     ]
    }
   ],
   "source": [
    "# Unauthenticated client only works with public data sets. Note 'None'\n",
    "# in place of application token, and no username or password:\n",
    "client = Socrata(\"healthdata.gov\", None)\n",
    "resultados = client.get(\"g62h-syeh\", limit=48000)\n",
    "\n",
    "# Convertir resultados en un dataframe\n",
    "resultados_df = pd.DataFrame.from_records(resultados)\n",
    "\n",
    "\n",
    "\n",
    "\n"
   ]
  },
  {
   "cell_type": "code",
   "execution_count": 6,
   "metadata": {},
   "outputs": [
    {
     "data": {
      "text/html": [
       "<div>\n",
       "<style scoped>\n",
       "    .dataframe tbody tr th:only-of-type {\n",
       "        vertical-align: middle;\n",
       "    }\n",
       "\n",
       "    .dataframe tbody tr th {\n",
       "        vertical-align: top;\n",
       "    }\n",
       "\n",
       "    .dataframe thead th {\n",
       "        text-align: right;\n",
       "    }\n",
       "</style>\n",
       "<table border=\"1\" class=\"dataframe\">\n",
       "  <thead>\n",
       "    <tr style=\"text-align: right;\">\n",
       "      <th></th>\n",
       "      <th>state</th>\n",
       "      <th>date</th>\n",
       "      <th>critical_staffing_shortage_today_yes</th>\n",
       "      <th>critical_staffing_shortage_today_no</th>\n",
       "      <th>critical_staffing_shortage_today_not_reported</th>\n",
       "      <th>critical_staffing_shortage_anticipated_within_week_yes</th>\n",
       "      <th>critical_staffing_shortage_anticipated_within_week_no</th>\n",
       "      <th>critical_staffing_shortage_anticipated_within_week_not_reported</th>\n",
       "      <th>hospital_onset_covid</th>\n",
       "      <th>hospital_onset_covid_coverage</th>\n",
       "      <th>...</th>\n",
       "      <th>staffed_pediatric_icu_bed_occupancy_coverage</th>\n",
       "      <th>total_staffed_pediatric_icu_beds</th>\n",
       "      <th>total_staffed_pediatric_icu_beds_coverage</th>\n",
       "      <th>staffed_icu_pediatric_patients_confirmed_covid</th>\n",
       "      <th>on_hand_supply_therapeutic_c_bamlanivimab_etesevimab_courses</th>\n",
       "      <th>previous_week_therapeutic_c_bamlanivimab_etesevimab_courses_used</th>\n",
       "      <th>previous_day_admission_pediatric_covid_confirmed_0_4</th>\n",
       "      <th>previous_day_admission_pediatric_covid_confirmed_unknown</th>\n",
       "      <th>previous_day_admission_pediatric_covid_confirmed_12_17</th>\n",
       "      <th>previous_day_admission_pediatric_covid_confirmed_5_11</th>\n",
       "    </tr>\n",
       "  </thead>\n",
       "  <tbody>\n",
       "    <tr>\n",
       "      <th>4501</th>\n",
       "      <td>MT</td>\n",
       "      <td>2020-01-01T00:00:00.000</td>\n",
       "      <td>0</td>\n",
       "      <td>0</td>\n",
       "      <td>1</td>\n",
       "      <td>0</td>\n",
       "      <td>0</td>\n",
       "      <td>1</td>\n",
       "      <td>0</td>\n",
       "      <td>1</td>\n",
       "      <td>...</td>\n",
       "      <td>0</td>\n",
       "      <td>NaN</td>\n",
       "      <td>0</td>\n",
       "      <td>NaN</td>\n",
       "      <td>NaN</td>\n",
       "      <td>NaN</td>\n",
       "      <td>NaN</td>\n",
       "      <td>NaN</td>\n",
       "      <td>NaN</td>\n",
       "      <td>NaN</td>\n",
       "    </tr>\n",
       "    <tr>\n",
       "      <th>17352</th>\n",
       "      <td>TX</td>\n",
       "      <td>2020-01-01T00:00:00.000</td>\n",
       "      <td>0</td>\n",
       "      <td>0</td>\n",
       "      <td>3</td>\n",
       "      <td>0</td>\n",
       "      <td>0</td>\n",
       "      <td>3</td>\n",
       "      <td>0</td>\n",
       "      <td>1</td>\n",
       "      <td>...</td>\n",
       "      <td>0</td>\n",
       "      <td>NaN</td>\n",
       "      <td>0</td>\n",
       "      <td>NaN</td>\n",
       "      <td>NaN</td>\n",
       "      <td>NaN</td>\n",
       "      <td>NaN</td>\n",
       "      <td>NaN</td>\n",
       "      <td>NaN</td>\n",
       "      <td>NaN</td>\n",
       "    </tr>\n",
       "    <tr>\n",
       "      <th>14043</th>\n",
       "      <td>PR</td>\n",
       "      <td>2020-01-01T00:00:00.000</td>\n",
       "      <td>0</td>\n",
       "      <td>0</td>\n",
       "      <td>1</td>\n",
       "      <td>0</td>\n",
       "      <td>0</td>\n",
       "      <td>1</td>\n",
       "      <td>0</td>\n",
       "      <td>1</td>\n",
       "      <td>...</td>\n",
       "      <td>0</td>\n",
       "      <td>NaN</td>\n",
       "      <td>0</td>\n",
       "      <td>NaN</td>\n",
       "      <td>NaN</td>\n",
       "      <td>NaN</td>\n",
       "      <td>NaN</td>\n",
       "      <td>NaN</td>\n",
       "      <td>NaN</td>\n",
       "      <td>NaN</td>\n",
       "    </tr>\n",
       "    <tr>\n",
       "      <th>16481</th>\n",
       "      <td>HI</td>\n",
       "      <td>2020-01-01T00:00:00.000</td>\n",
       "      <td>0</td>\n",
       "      <td>0</td>\n",
       "      <td>1</td>\n",
       "      <td>0</td>\n",
       "      <td>0</td>\n",
       "      <td>1</td>\n",
       "      <td>0</td>\n",
       "      <td>1</td>\n",
       "      <td>...</td>\n",
       "      <td>0</td>\n",
       "      <td>NaN</td>\n",
       "      <td>0</td>\n",
       "      <td>NaN</td>\n",
       "      <td>NaN</td>\n",
       "      <td>NaN</td>\n",
       "      <td>NaN</td>\n",
       "      <td>NaN</td>\n",
       "      <td>NaN</td>\n",
       "      <td>NaN</td>\n",
       "    </tr>\n",
       "    <tr>\n",
       "      <th>13718</th>\n",
       "      <td>IN</td>\n",
       "      <td>2020-01-01T00:00:00.000</td>\n",
       "      <td>0</td>\n",
       "      <td>0</td>\n",
       "      <td>1</td>\n",
       "      <td>0</td>\n",
       "      <td>0</td>\n",
       "      <td>1</td>\n",
       "      <td>0</td>\n",
       "      <td>1</td>\n",
       "      <td>...</td>\n",
       "      <td>0</td>\n",
       "      <td>NaN</td>\n",
       "      <td>0</td>\n",
       "      <td>NaN</td>\n",
       "      <td>NaN</td>\n",
       "      <td>NaN</td>\n",
       "      <td>NaN</td>\n",
       "      <td>NaN</td>\n",
       "      <td>NaN</td>\n",
       "      <td>NaN</td>\n",
       "    </tr>\n",
       "    <tr>\n",
       "      <th>...</th>\n",
       "      <td>...</td>\n",
       "      <td>...</td>\n",
       "      <td>...</td>\n",
       "      <td>...</td>\n",
       "      <td>...</td>\n",
       "      <td>...</td>\n",
       "      <td>...</td>\n",
       "      <td>...</td>\n",
       "      <td>...</td>\n",
       "      <td>...</td>\n",
       "      <td>...</td>\n",
       "      <td>...</td>\n",
       "      <td>...</td>\n",
       "      <td>...</td>\n",
       "      <td>...</td>\n",
       "      <td>...</td>\n",
       "      <td>...</td>\n",
       "      <td>...</td>\n",
       "      <td>...</td>\n",
       "      <td>...</td>\n",
       "      <td>...</td>\n",
       "    </tr>\n",
       "    <tr>\n",
       "      <th>39839</th>\n",
       "      <td>NM</td>\n",
       "      <td>2022-08-10T00:00:00.000</td>\n",
       "      <td>3</td>\n",
       "      <td>8</td>\n",
       "      <td>36</td>\n",
       "      <td>21</td>\n",
       "      <td>25</td>\n",
       "      <td>1</td>\n",
       "      <td>9</td>\n",
       "      <td>46</td>\n",
       "      <td>...</td>\n",
       "      <td>46</td>\n",
       "      <td>49</td>\n",
       "      <td>46</td>\n",
       "      <td>2</td>\n",
       "      <td>77</td>\n",
       "      <td>0</td>\n",
       "      <td>0</td>\n",
       "      <td>0</td>\n",
       "      <td>3</td>\n",
       "      <td>0</td>\n",
       "    </tr>\n",
       "    <tr>\n",
       "      <th>41749</th>\n",
       "      <td>AK</td>\n",
       "      <td>2022-08-10T00:00:00.000</td>\n",
       "      <td>1</td>\n",
       "      <td>18</td>\n",
       "      <td>2</td>\n",
       "      <td>2</td>\n",
       "      <td>17</td>\n",
       "      <td>2</td>\n",
       "      <td>2</td>\n",
       "      <td>21</td>\n",
       "      <td>...</td>\n",
       "      <td>21</td>\n",
       "      <td>5</td>\n",
       "      <td>21</td>\n",
       "      <td>0</td>\n",
       "      <td>602</td>\n",
       "      <td>0</td>\n",
       "      <td>1</td>\n",
       "      <td>0</td>\n",
       "      <td>0</td>\n",
       "      <td>0</td>\n",
       "    </tr>\n",
       "    <tr>\n",
       "      <th>45545</th>\n",
       "      <td>OH</td>\n",
       "      <td>2022-08-10T00:00:00.000</td>\n",
       "      <td>2</td>\n",
       "      <td>64</td>\n",
       "      <td>132</td>\n",
       "      <td>6</td>\n",
       "      <td>75</td>\n",
       "      <td>117</td>\n",
       "      <td>27</td>\n",
       "      <td>193</td>\n",
       "      <td>...</td>\n",
       "      <td>195</td>\n",
       "      <td>502</td>\n",
       "      <td>195</td>\n",
       "      <td>14</td>\n",
       "      <td>1701</td>\n",
       "      <td>0</td>\n",
       "      <td>13</td>\n",
       "      <td>0</td>\n",
       "      <td>3</td>\n",
       "      <td>2</td>\n",
       "    </tr>\n",
       "    <tr>\n",
       "      <th>34079</th>\n",
       "      <td>NV</td>\n",
       "      <td>2022-08-10T00:00:00.000</td>\n",
       "      <td>2</td>\n",
       "      <td>9</td>\n",
       "      <td>38</td>\n",
       "      <td>1</td>\n",
       "      <td>13</td>\n",
       "      <td>35</td>\n",
       "      <td>61</td>\n",
       "      <td>49</td>\n",
       "      <td>...</td>\n",
       "      <td>48</td>\n",
       "      <td>147</td>\n",
       "      <td>48</td>\n",
       "      <td>27</td>\n",
       "      <td>10</td>\n",
       "      <td>0</td>\n",
       "      <td>0</td>\n",
       "      <td>0</td>\n",
       "      <td>0</td>\n",
       "      <td>1</td>\n",
       "    </tr>\n",
       "    <tr>\n",
       "      <th>45400</th>\n",
       "      <td>GA</td>\n",
       "      <td>2022-08-10T00:00:00.000</td>\n",
       "      <td>29</td>\n",
       "      <td>98</td>\n",
       "      <td>26</td>\n",
       "      <td>34</td>\n",
       "      <td>94</td>\n",
       "      <td>25</td>\n",
       "      <td>27</td>\n",
       "      <td>150</td>\n",
       "      <td>...</td>\n",
       "      <td>138</td>\n",
       "      <td>394</td>\n",
       "      <td>150</td>\n",
       "      <td>11</td>\n",
       "      <td>3520</td>\n",
       "      <td>12</td>\n",
       "      <td>13</td>\n",
       "      <td>2</td>\n",
       "      <td>3</td>\n",
       "      <td>4</td>\n",
       "    </tr>\n",
       "  </tbody>\n",
       "</table>\n",
       "<p>47909 rows × 134 columns</p>\n",
       "</div>"
      ],
      "text/plain": [
       "      state                     date critical_staffing_shortage_today_yes  \\\n",
       "4501     MT  2020-01-01T00:00:00.000                                    0   \n",
       "17352    TX  2020-01-01T00:00:00.000                                    0   \n",
       "14043    PR  2020-01-01T00:00:00.000                                    0   \n",
       "16481    HI  2020-01-01T00:00:00.000                                    0   \n",
       "13718    IN  2020-01-01T00:00:00.000                                    0   \n",
       "...     ...                      ...                                  ...   \n",
       "39839    NM  2022-08-10T00:00:00.000                                    3   \n",
       "41749    AK  2022-08-10T00:00:00.000                                    1   \n",
       "45545    OH  2022-08-10T00:00:00.000                                    2   \n",
       "34079    NV  2022-08-10T00:00:00.000                                    2   \n",
       "45400    GA  2022-08-10T00:00:00.000                                   29   \n",
       "\n",
       "      critical_staffing_shortage_today_no  \\\n",
       "4501                                    0   \n",
       "17352                                   0   \n",
       "14043                                   0   \n",
       "16481                                   0   \n",
       "13718                                   0   \n",
       "...                                   ...   \n",
       "39839                                   8   \n",
       "41749                                  18   \n",
       "45545                                  64   \n",
       "34079                                   9   \n",
       "45400                                  98   \n",
       "\n",
       "      critical_staffing_shortage_today_not_reported  \\\n",
       "4501                                              1   \n",
       "17352                                             3   \n",
       "14043                                             1   \n",
       "16481                                             1   \n",
       "13718                                             1   \n",
       "...                                             ...   \n",
       "39839                                            36   \n",
       "41749                                             2   \n",
       "45545                                           132   \n",
       "34079                                            38   \n",
       "45400                                            26   \n",
       "\n",
       "      critical_staffing_shortage_anticipated_within_week_yes  \\\n",
       "4501                                                   0       \n",
       "17352                                                  0       \n",
       "14043                                                  0       \n",
       "16481                                                  0       \n",
       "13718                                                  0       \n",
       "...                                                  ...       \n",
       "39839                                                 21       \n",
       "41749                                                  2       \n",
       "45545                                                  6       \n",
       "34079                                                  1       \n",
       "45400                                                 34       \n",
       "\n",
       "      critical_staffing_shortage_anticipated_within_week_no  \\\n",
       "4501                                                   0      \n",
       "17352                                                  0      \n",
       "14043                                                  0      \n",
       "16481                                                  0      \n",
       "13718                                                  0      \n",
       "...                                                  ...      \n",
       "39839                                                 25      \n",
       "41749                                                 17      \n",
       "45545                                                 75      \n",
       "34079                                                 13      \n",
       "45400                                                 94      \n",
       "\n",
       "      critical_staffing_shortage_anticipated_within_week_not_reported  \\\n",
       "4501                                                   1                \n",
       "17352                                                  3                \n",
       "14043                                                  1                \n",
       "16481                                                  1                \n",
       "13718                                                  1                \n",
       "...                                                  ...                \n",
       "39839                                                  1                \n",
       "41749                                                  2                \n",
       "45545                                                117                \n",
       "34079                                                 35                \n",
       "45400                                                 25                \n",
       "\n",
       "      hospital_onset_covid hospital_onset_covid_coverage  ...  \\\n",
       "4501                     0                             1  ...   \n",
       "17352                    0                             1  ...   \n",
       "14043                    0                             1  ...   \n",
       "16481                    0                             1  ...   \n",
       "13718                    0                             1  ...   \n",
       "...                    ...                           ...  ...   \n",
       "39839                    9                            46  ...   \n",
       "41749                    2                            21  ...   \n",
       "45545                   27                           193  ...   \n",
       "34079                   61                            49  ...   \n",
       "45400                   27                           150  ...   \n",
       "\n",
       "      staffed_pediatric_icu_bed_occupancy_coverage  \\\n",
       "4501                                             0   \n",
       "17352                                            0   \n",
       "14043                                            0   \n",
       "16481                                            0   \n",
       "13718                                            0   \n",
       "...                                            ...   \n",
       "39839                                           46   \n",
       "41749                                           21   \n",
       "45545                                          195   \n",
       "34079                                           48   \n",
       "45400                                          138   \n",
       "\n",
       "      total_staffed_pediatric_icu_beds  \\\n",
       "4501                               NaN   \n",
       "17352                              NaN   \n",
       "14043                              NaN   \n",
       "16481                              NaN   \n",
       "13718                              NaN   \n",
       "...                                ...   \n",
       "39839                               49   \n",
       "41749                                5   \n",
       "45545                              502   \n",
       "34079                              147   \n",
       "45400                              394   \n",
       "\n",
       "      total_staffed_pediatric_icu_beds_coverage  \\\n",
       "4501                                          0   \n",
       "17352                                         0   \n",
       "14043                                         0   \n",
       "16481                                         0   \n",
       "13718                                         0   \n",
       "...                                         ...   \n",
       "39839                                        46   \n",
       "41749                                        21   \n",
       "45545                                       195   \n",
       "34079                                        48   \n",
       "45400                                       150   \n",
       "\n",
       "      staffed_icu_pediatric_patients_confirmed_covid  \\\n",
       "4501                                             NaN   \n",
       "17352                                            NaN   \n",
       "14043                                            NaN   \n",
       "16481                                            NaN   \n",
       "13718                                            NaN   \n",
       "...                                              ...   \n",
       "39839                                              2   \n",
       "41749                                              0   \n",
       "45545                                             14   \n",
       "34079                                             27   \n",
       "45400                                             11   \n",
       "\n",
       "      on_hand_supply_therapeutic_c_bamlanivimab_etesevimab_courses  \\\n",
       "4501                                                 NaN             \n",
       "17352                                                NaN             \n",
       "14043                                                NaN             \n",
       "16481                                                NaN             \n",
       "13718                                                NaN             \n",
       "...                                                  ...             \n",
       "39839                                                 77             \n",
       "41749                                                602             \n",
       "45545                                               1701             \n",
       "34079                                                 10             \n",
       "45400                                               3520             \n",
       "\n",
       "      previous_week_therapeutic_c_bamlanivimab_etesevimab_courses_used  \\\n",
       "4501                                                 NaN                 \n",
       "17352                                                NaN                 \n",
       "14043                                                NaN                 \n",
       "16481                                                NaN                 \n",
       "13718                                                NaN                 \n",
       "...                                                  ...                 \n",
       "39839                                                  0                 \n",
       "41749                                                  0                 \n",
       "45545                                                  0                 \n",
       "34079                                                  0                 \n",
       "45400                                                 12                 \n",
       "\n",
       "      previous_day_admission_pediatric_covid_confirmed_0_4  \\\n",
       "4501                                                 NaN     \n",
       "17352                                                NaN     \n",
       "14043                                                NaN     \n",
       "16481                                                NaN     \n",
       "13718                                                NaN     \n",
       "...                                                  ...     \n",
       "39839                                                  0     \n",
       "41749                                                  1     \n",
       "45545                                                 13     \n",
       "34079                                                  0     \n",
       "45400                                                 13     \n",
       "\n",
       "      previous_day_admission_pediatric_covid_confirmed_unknown  \\\n",
       "4501                                                 NaN         \n",
       "17352                                                NaN         \n",
       "14043                                                NaN         \n",
       "16481                                                NaN         \n",
       "13718                                                NaN         \n",
       "...                                                  ...         \n",
       "39839                                                  0         \n",
       "41749                                                  0         \n",
       "45545                                                  0         \n",
       "34079                                                  0         \n",
       "45400                                                  2         \n",
       "\n",
       "      previous_day_admission_pediatric_covid_confirmed_12_17  \\\n",
       "4501                                                 NaN       \n",
       "17352                                                NaN       \n",
       "14043                                                NaN       \n",
       "16481                                                NaN       \n",
       "13718                                                NaN       \n",
       "...                                                  ...       \n",
       "39839                                                  3       \n",
       "41749                                                  0       \n",
       "45545                                                  3       \n",
       "34079                                                  0       \n",
       "45400                                                  3       \n",
       "\n",
       "      previous_day_admission_pediatric_covid_confirmed_5_11  \n",
       "4501                                                 NaN     \n",
       "17352                                                NaN     \n",
       "14043                                                NaN     \n",
       "16481                                                NaN     \n",
       "13718                                                NaN     \n",
       "...                                                  ...     \n",
       "39839                                                  0     \n",
       "41749                                                  0     \n",
       "45545                                                  2     \n",
       "34079                                                  1     \n",
       "45400                                                  4     \n",
       "\n",
       "[47909 rows x 134 columns]"
      ]
     },
     "execution_count": 6,
     "metadata": {},
     "output_type": "execute_result"
    }
   ],
   "source": [
    "resultados_df.sort_values(by='date', ascending=True)"
   ]
  },
  {
   "cell_type": "code",
   "execution_count": 7,
   "metadata": {},
   "outputs": [
    {
     "name": "stdout",
     "output_type": "stream",
     "text": [
      "<class 'pandas.core.frame.DataFrame'>\n",
      "RangeIndex: 47909 entries, 0 to 47908\n",
      "Columns: 134 entries, state to previous_day_admission_pediatric_covid_confirmed_5_11\n",
      "dtypes: object(134)\n",
      "memory usage: 49.0+ MB\n"
     ]
    }
   ],
   "source": [
    "resultados_df.info()"
   ]
  },
  {
   "cell_type": "markdown",
   "metadata": {},
   "source": [
    "# # 1 - ¿Cuáles fueron los 5 Estados con mayor ocupación hospitalaria por COVID? Criterio de ocupación por cama común. Considere la cantidad de camas ocupadas con pacientes confirmados y tome como referencia los 6 primeros meses del 2020 - recuerde incluir la cifra de infectados en esos meses (acumulativo). ¿Influye el rango etario en este comportamiento?"
   ]
  },
  {
   "cell_type": "code",
   "execution_count": 8,
   "metadata": {},
   "outputs": [],
   "source": [
    "resultados_df.drop(resultados_df.filter(regex= 'coverage|numerator|denominator|suspected|reported').columns, axis= 1, inplace= True)"
   ]
  },
  {
   "cell_type": "code",
   "execution_count": 10,
   "metadata": {},
   "outputs": [],
   "source": [
    "import re"
   ]
  },
  {
   "cell_type": "code",
   "execution_count": 12,
   "metadata": {},
   "outputs": [],
   "source": [
    "respuesta_1= resultados_df[['state','date','inpatient_beds_used_covid', 'total_adult_patients_hospitalized_confirmed_covid','total_pediatric_patients_hospitalized_confirmed_covid']]"
   ]
  },
  {
   "cell_type": "code",
   "execution_count": 13,
   "metadata": {},
   "outputs": [],
   "source": [
    "import datetime as dt"
   ]
  },
  {
   "cell_type": "code",
   "execution_count": 14,
   "metadata": {},
   "outputs": [
    {
     "name": "stderr",
     "output_type": "stream",
     "text": [
      "C:\\Users\\User\\AppData\\Local\\Temp\\ipykernel_10596\\3819286870.py:1: SettingWithCopyWarning: \n",
      "A value is trying to be set on a copy of a slice from a DataFrame.\n",
      "Try using .loc[row_indexer,col_indexer] = value instead\n",
      "\n",
      "See the caveats in the documentation: https://pandas.pydata.org/pandas-docs/stable/user_guide/indexing.html#returning-a-view-versus-a-copy\n",
      "  respuesta_1[\"date\"]= pd.to_datetime(respuesta_1['date'])\n",
      "C:\\Users\\User\\AppData\\Local\\Temp\\ipykernel_10596\\3819286870.py:2: SettingWithCopyWarning: \n",
      "A value is trying to be set on a copy of a slice from a DataFrame.\n",
      "Try using .loc[row_indexer,col_indexer] = value instead\n",
      "\n",
      "See the caveats in the documentation: https://pandas.pydata.org/pandas-docs/stable/user_guide/indexing.html#returning-a-view-versus-a-copy\n",
      "  respuesta_1[\"Month\"]= respuesta_1['date'].dt.month\n"
     ]
    }
   ],
   "source": [
    "respuesta_1[\"date\"]= pd.to_datetime(respuesta_1['date'])\n",
    "respuesta_1[\"Month\"]= respuesta_1['date'].dt.month "
   ]
  },
  {
   "cell_type": "code",
   "execution_count": 15,
   "metadata": {},
   "outputs": [],
   "source": [
    "# Filtro info entre dos fechas \n",
    "\n",
    "respuesta1= respuesta_1.loc[(respuesta_1['date']>= '2020-01-01')&(respuesta_1['date']<='2020-06-30')]                     "
   ]
  },
  {
   "cell_type": "code",
   "execution_count": 16,
   "metadata": {},
   "outputs": [
    {
     "data": {
      "text/html": [
       "<div>\n",
       "<style scoped>\n",
       "    .dataframe tbody tr th:only-of-type {\n",
       "        vertical-align: middle;\n",
       "    }\n",
       "\n",
       "    .dataframe tbody tr th {\n",
       "        vertical-align: top;\n",
       "    }\n",
       "\n",
       "    .dataframe thead th {\n",
       "        text-align: right;\n",
       "    }\n",
       "</style>\n",
       "<table border=\"1\" class=\"dataframe\">\n",
       "  <thead>\n",
       "    <tr style=\"text-align: right;\">\n",
       "      <th></th>\n",
       "      <th>state</th>\n",
       "      <th>date</th>\n",
       "      <th>inpatient_beds_used_covid</th>\n",
       "      <th>total_adult_patients_hospitalized_confirmed_covid</th>\n",
       "      <th>total_pediatric_patients_hospitalized_confirmed_covid</th>\n",
       "      <th>Month</th>\n",
       "    </tr>\n",
       "  </thead>\n",
       "  <tbody>\n",
       "    <tr>\n",
       "      <th>960</th>\n",
       "      <td>NY</td>\n",
       "      <td>2020-06-08</td>\n",
       "      <td>3363</td>\n",
       "      <td>3</td>\n",
       "      <td>0</td>\n",
       "      <td>6</td>\n",
       "    </tr>\n",
       "    <tr>\n",
       "      <th>1716</th>\n",
       "      <td>NY</td>\n",
       "      <td>2020-06-28</td>\n",
       "      <td>1477</td>\n",
       "      <td>0</td>\n",
       "      <td>0</td>\n",
       "      <td>6</td>\n",
       "    </tr>\n",
       "    <tr>\n",
       "      <th>1739</th>\n",
       "      <td>RI</td>\n",
       "      <td>2020-06-07</td>\n",
       "      <td>196</td>\n",
       "      <td>0</td>\n",
       "      <td>0</td>\n",
       "      <td>6</td>\n",
       "    </tr>\n",
       "    <tr>\n",
       "      <th>1830</th>\n",
       "      <td>NY</td>\n",
       "      <td>2020-06-13</td>\n",
       "      <td>2530</td>\n",
       "      <td>0</td>\n",
       "      <td>0</td>\n",
       "      <td>6</td>\n",
       "    </tr>\n",
       "    <tr>\n",
       "      <th>2032</th>\n",
       "      <td>NY</td>\n",
       "      <td>2020-06-22</td>\n",
       "      <td>1942</td>\n",
       "      <td>2</td>\n",
       "      <td>0</td>\n",
       "      <td>6</td>\n",
       "    </tr>\n",
       "    <tr>\n",
       "      <th>...</th>\n",
       "      <td>...</td>\n",
       "      <td>...</td>\n",
       "      <td>...</td>\n",
       "      <td>...</td>\n",
       "      <td>...</td>\n",
       "      <td>...</td>\n",
       "    </tr>\n",
       "    <tr>\n",
       "      <th>21496</th>\n",
       "      <td>PR</td>\n",
       "      <td>2020-04-14</td>\n",
       "      <td>300</td>\n",
       "      <td>149</td>\n",
       "      <td>6</td>\n",
       "      <td>4</td>\n",
       "    </tr>\n",
       "    <tr>\n",
       "      <th>21509</th>\n",
       "      <td>PR</td>\n",
       "      <td>2020-04-11</td>\n",
       "      <td>295</td>\n",
       "      <td>149</td>\n",
       "      <td>6</td>\n",
       "      <td>4</td>\n",
       "    </tr>\n",
       "    <tr>\n",
       "      <th>21526</th>\n",
       "      <td>NY</td>\n",
       "      <td>2020-04-28</td>\n",
       "      <td>10736</td>\n",
       "      <td>0</td>\n",
       "      <td>0</td>\n",
       "      <td>4</td>\n",
       "    </tr>\n",
       "    <tr>\n",
       "      <th>21541</th>\n",
       "      <td>RI</td>\n",
       "      <td>2020-04-10</td>\n",
       "      <td>251</td>\n",
       "      <td>0</td>\n",
       "      <td>0</td>\n",
       "      <td>4</td>\n",
       "    </tr>\n",
       "    <tr>\n",
       "      <th>21563</th>\n",
       "      <td>NY</td>\n",
       "      <td>2020-06-02</td>\n",
       "      <td>3805</td>\n",
       "      <td>2</td>\n",
       "      <td>0</td>\n",
       "      <td>6</td>\n",
       "    </tr>\n",
       "  </tbody>\n",
       "</table>\n",
       "<p>189 rows × 6 columns</p>\n",
       "</div>"
      ],
      "text/plain": [
       "      state       date inpatient_beds_used_covid  \\\n",
       "960      NY 2020-06-08                      3363   \n",
       "1716     NY 2020-06-28                      1477   \n",
       "1739     RI 2020-06-07                       196   \n",
       "1830     NY 2020-06-13                      2530   \n",
       "2032     NY 2020-06-22                      1942   \n",
       "...     ...        ...                       ...   \n",
       "21496    PR 2020-04-14                       300   \n",
       "21509    PR 2020-04-11                       295   \n",
       "21526    NY 2020-04-28                     10736   \n",
       "21541    RI 2020-04-10                       251   \n",
       "21563    NY 2020-06-02                      3805   \n",
       "\n",
       "      total_adult_patients_hospitalized_confirmed_covid  \\\n",
       "960                                                   3   \n",
       "1716                                                  0   \n",
       "1739                                                  0   \n",
       "1830                                                  0   \n",
       "2032                                                  2   \n",
       "...                                                 ...   \n",
       "21496                                               149   \n",
       "21509                                               149   \n",
       "21526                                                 0   \n",
       "21541                                                 0   \n",
       "21563                                                 2   \n",
       "\n",
       "      total_pediatric_patients_hospitalized_confirmed_covid  Month  \n",
       "960                                                    0         6  \n",
       "1716                                                   0         6  \n",
       "1739                                                   0         6  \n",
       "1830                                                   0         6  \n",
       "2032                                                   0         6  \n",
       "...                                                  ...       ...  \n",
       "21496                                                  6         4  \n",
       "21509                                                  6         4  \n",
       "21526                                                  0         4  \n",
       "21541                                                  0         4  \n",
       "21563                                                  0         6  \n",
       "\n",
       "[189 rows x 6 columns]"
      ]
     },
     "execution_count": 16,
     "metadata": {},
     "output_type": "execute_result"
    }
   ],
   "source": [
    "respuesta1.dropna()"
   ]
  },
  {
   "cell_type": "code",
   "execution_count": 17,
   "metadata": {},
   "outputs": [
    {
     "name": "stderr",
     "output_type": "stream",
     "text": [
      "C:\\Users\\User\\AppData\\Local\\Temp\\ipykernel_10596\\1960785220.py:1: SettingWithCopyWarning: \n",
      "A value is trying to be set on a copy of a slice from a DataFrame.\n",
      "Try using .loc[row_indexer,col_indexer] = value instead\n",
      "\n",
      "See the caveats in the documentation: https://pandas.pydata.org/pandas-docs/stable/user_guide/indexing.html#returning-a-view-versus-a-copy\n",
      "  respuesta1['inpatient_beds_used_covid'] = respuesta1['inpatient_beds_used_covid'].astype(float, errors= 'raise')\n",
      "C:\\Users\\User\\AppData\\Local\\Temp\\ipykernel_10596\\1960785220.py:2: SettingWithCopyWarning: \n",
      "A value is trying to be set on a copy of a slice from a DataFrame.\n",
      "Try using .loc[row_indexer,col_indexer] = value instead\n",
      "\n",
      "See the caveats in the documentation: https://pandas.pydata.org/pandas-docs/stable/user_guide/indexing.html#returning-a-view-versus-a-copy\n",
      "  respuesta1['total_adult_patients_hospitalized_confirmed_covid'] = respuesta1['total_adult_patients_hospitalized_confirmed_covid'].astype(float, errors= 'raise')\n",
      "C:\\Users\\User\\AppData\\Local\\Temp\\ipykernel_10596\\1960785220.py:3: SettingWithCopyWarning: \n",
      "A value is trying to be set on a copy of a slice from a DataFrame.\n",
      "Try using .loc[row_indexer,col_indexer] = value instead\n",
      "\n",
      "See the caveats in the documentation: https://pandas.pydata.org/pandas-docs/stable/user_guide/indexing.html#returning-a-view-versus-a-copy\n",
      "  respuesta1['total_pediatric_patients_hospitalized_confirmed_covid'] = respuesta1['total_pediatric_patients_hospitalized_confirmed_covid'].astype(float, errors= 'raise')\n"
     ]
    }
   ],
   "source": [
    "\n",
    "respuesta1['inpatient_beds_used_covid'] = respuesta1['inpatient_beds_used_covid'].astype(float, errors= 'raise')\n",
    "respuesta1['total_adult_patients_hospitalized_confirmed_covid'] = respuesta1['total_adult_patients_hospitalized_confirmed_covid'].astype(float, errors= 'raise')\n",
    "respuesta1['total_pediatric_patients_hospitalized_confirmed_covid'] = respuesta1['total_pediatric_patients_hospitalized_confirmed_covid'].astype(float, errors= 'raise')"
   ]
  },
  {
   "cell_type": "code",
   "execution_count": 18,
   "metadata": {},
   "outputs": [
    {
     "name": "stderr",
     "output_type": "stream",
     "text": [
      "C:\\Users\\User\\AppData\\Local\\Temp\\ipykernel_10596\\334866634.py:1: SettingWithCopyWarning: \n",
      "A value is trying to be set on a copy of a slice from a DataFrame.\n",
      "Try using .loc[row_indexer,col_indexer] = value instead\n",
      "\n",
      "See the caveats in the documentation: https://pandas.pydata.org/pandas-docs/stable/user_guide/indexing.html#returning-a-view-versus-a-copy\n",
      "  respuesta1['total_adult_patients_hospitalized_confirmed_covid'] = respuesta1['total_adult_patients_hospitalized_confirmed_covid'].fillna(0)\n",
      "C:\\Users\\User\\AppData\\Local\\Temp\\ipykernel_10596\\334866634.py:2: SettingWithCopyWarning: \n",
      "A value is trying to be set on a copy of a slice from a DataFrame.\n",
      "Try using .loc[row_indexer,col_indexer] = value instead\n",
      "\n",
      "See the caveats in the documentation: https://pandas.pydata.org/pandas-docs/stable/user_guide/indexing.html#returning-a-view-versus-a-copy\n",
      "  respuesta1['total_pediatric_patients_hospitalized_confirmed_covid'] = respuesta1['total_pediatric_patients_hospitalized_confirmed_covid'].fillna(0)\n"
     ]
    }
   ],
   "source": [
    "respuesta1['total_adult_patients_hospitalized_confirmed_covid'] = respuesta1['total_adult_patients_hospitalized_confirmed_covid'].fillna(0)\n",
    "respuesta1['total_pediatric_patients_hospitalized_confirmed_covid'] = respuesta1['total_pediatric_patients_hospitalized_confirmed_covid'].fillna(0)"
   ]
  },
  {
   "cell_type": "code",
   "execution_count": 19,
   "metadata": {},
   "outputs": [
    {
     "name": "stderr",
     "output_type": "stream",
     "text": [
      "C:\\Users\\User\\AppData\\Local\\Temp\\ipykernel_10596\\3363081517.py:1: SettingWithCopyWarning: \n",
      "A value is trying to be set on a copy of a slice from a DataFrame.\n",
      "Try using .loc[row_indexer,col_indexer] = value instead\n",
      "\n",
      "See the caveats in the documentation: https://pandas.pydata.org/pandas-docs/stable/user_guide/indexing.html#returning-a-view-versus-a-copy\n",
      "  respuesta1['total_beds']= respuesta1['total_pediatric_patients_hospitalized_confirmed_covid']+respuesta1['total_adult_patients_hospitalized_confirmed_covid']\n"
     ]
    }
   ],
   "source": [
    "respuesta1['total_beds']= respuesta1['total_pediatric_patients_hospitalized_confirmed_covid']+respuesta1['total_adult_patients_hospitalized_confirmed_covid']"
   ]
  },
  {
   "cell_type": "code",
   "execution_count": 20,
   "metadata": {},
   "outputs": [],
   "source": [
    "MaxEstado= respuesta1.groupby(\"state\")['total_beds'].sum()"
   ]
  },
  {
   "cell_type": "code",
   "execution_count": 21,
   "metadata": {},
   "outputs": [],
   "source": [
    "MaxEstado=(MaxEstado.to_frame())"
   ]
  },
  {
   "cell_type": "code",
   "execution_count": 22,
   "metadata": {},
   "outputs": [
    {
     "data": {
      "text/html": [
       "<div>\n",
       "<style scoped>\n",
       "    .dataframe tbody tr th:only-of-type {\n",
       "        vertical-align: middle;\n",
       "    }\n",
       "\n",
       "    .dataframe tbody tr th {\n",
       "        vertical-align: top;\n",
       "    }\n",
       "\n",
       "    .dataframe thead th {\n",
       "        text-align: right;\n",
       "    }\n",
       "</style>\n",
       "<table border=\"1\" class=\"dataframe\">\n",
       "  <thead>\n",
       "    <tr style=\"text-align: right;\">\n",
       "      <th></th>\n",
       "      <th>total_beds</th>\n",
       "    </tr>\n",
       "    <tr>\n",
       "      <th>state</th>\n",
       "      <th></th>\n",
       "    </tr>\n",
       "  </thead>\n",
       "  <tbody>\n",
       "    <tr>\n",
       "      <th>LA</th>\n",
       "      <td>40452.0</td>\n",
       "    </tr>\n",
       "    <tr>\n",
       "      <th>CA</th>\n",
       "      <td>36134.0</td>\n",
       "    </tr>\n",
       "    <tr>\n",
       "      <th>NV</th>\n",
       "      <td>20134.0</td>\n",
       "    </tr>\n",
       "    <tr>\n",
       "      <th>AZ</th>\n",
       "      <td>5177.0</td>\n",
       "    </tr>\n",
       "    <tr>\n",
       "      <th>IA</th>\n",
       "      <td>3174.0</td>\n",
       "    </tr>\n",
       "  </tbody>\n",
       "</table>\n",
       "</div>"
      ],
      "text/plain": [
       "       total_beds\n",
       "state            \n",
       "LA        40452.0\n",
       "CA        36134.0\n",
       "NV        20134.0\n",
       "AZ         5177.0\n",
       "IA         3174.0"
      ]
     },
     "execution_count": 22,
     "metadata": {},
     "output_type": "execute_result"
    }
   ],
   "source": [
    "MaxEstado.sort_values(by='total_beds',ascending=False).head(5)"
   ]
  },
  {
   "cell_type": "markdown",
   "metadata": {},
   "source": [
    "# #  2 - Analice la ocupación de camas (Común) por COVID en el Estado de Nueva York durante la cuarentena establecida e indique:\n",
    "# Intervalos de crecimiento y decrecimiento\n",
    "# Puntos críticos (mínimos y máximos)"
   ]
  },
  {
   "cell_type": "code",
   "execution_count": 27,
   "metadata": {},
   "outputs": [],
   "source": [
    "respuesta_2= respuesta1.loc[(respuesta1['state']== 'NY')]"
   ]
  },
  {
   "cell_type": "code",
   "execution_count": 28,
   "metadata": {},
   "outputs": [],
   "source": [
    "respuesta_2= respuesta_2.loc[(respuesta_2['date']>= '2020-03-22')&(respuesta_2['date']<='2020-06-13')] "
   ]
  },
  {
   "cell_type": "code",
   "execution_count": 29,
   "metadata": {},
   "outputs": [],
   "source": [
    "import matplotlib.pyplot as plt"
   ]
  },
  {
   "cell_type": "code",
   "execution_count": 32,
   "metadata": {},
   "outputs": [],
   "source": [
    "media = respuesta_2[\"inpatient_beds_used_covid\"].mean() #promedio\n",
    "mediana = respuesta_2[\"inpatient_beds_used_covid\"].median() #valor que deja por debajo 50%\n"
   ]
  },
  {
   "cell_type": "code",
   "execution_count": 33,
   "metadata": {},
   "outputs": [],
   "source": [
    "rango = respuesta_2[\"inpatient_beds_used_covid\"].max() - respuesta_2[\"inpatient_beds_used_covid\"].min()\n",
    "iqr = respuesta_2[\"inpatient_beds_used_covid\"].quantile(0.75) - respuesta_2[\"inpatient_beds_used_covid\"].quantile(0.25)\n"
   ]
  },
  {
   "cell_type": "code",
   "execution_count": 34,
   "metadata": {},
   "outputs": [
    {
     "name": "stdout",
     "output_type": "stream",
     "text": [
      "7619.75 7524.5 13802.0 8268.0\n"
     ]
    }
   ],
   "source": [
    "print(media,mediana,rango,iqr)"
   ]
  },
  {
   "cell_type": "code",
   "execution_count": 35,
   "metadata": {},
   "outputs": [
    {
     "data": {
      "text/plain": [
       "inpatient_beds_used_covid                                4024.25\n",
       "total_adult_patients_hospitalized_confirmed_covid           0.00\n",
       "total_pediatric_patients_hospitalized_confirmed_covid       0.00\n",
       "Month                                                       4.00\n",
       "total_beds                                                  0.00\n",
       "Name: 0.25, dtype: float64"
      ]
     },
     "execution_count": 35,
     "metadata": {},
     "output_type": "execute_result"
    }
   ],
   "source": [
    "respuesta_2.quantile(0.25)"
   ]
  },
  {
   "cell_type": "code",
   "execution_count": 36,
   "metadata": {},
   "outputs": [
    {
     "data": {
      "text/plain": [
       "inpatient_beds_used_covid                                12292.25\n",
       "total_adult_patients_hospitalized_confirmed_covid            2.00\n",
       "total_pediatric_patients_hospitalized_confirmed_covid        0.00\n",
       "Month                                                        5.00\n",
       "total_beds                                                   2.00\n",
       "Name: 0.75, dtype: float64"
      ]
     },
     "execution_count": 36,
     "metadata": {},
     "output_type": "execute_result"
    }
   ],
   "source": [
    "respuesta_2.quantile(0.75)"
   ]
  },
  {
   "cell_type": "code",
   "execution_count": 38,
   "metadata": {},
   "outputs": [
    {
     "data": {
      "text/plain": [
       "state                                                                     NY\n",
       "date                                                     2020-06-13 00:00:00\n",
       "inpatient_beds_used_covid                                            14126.0\n",
       "total_adult_patients_hospitalized_confirmed_covid                        5.0\n",
       "total_pediatric_patients_hospitalized_confirmed_covid                    0.0\n",
       "Month                                                                      6\n",
       "total_beds                                                               5.0\n",
       "dtype: object"
      ]
     },
     "execution_count": 38,
     "metadata": {},
     "output_type": "execute_result"
    }
   ],
   "source": [
    "respuesta_2.max()"
   ]
  },
  {
   "cell_type": "code",
   "execution_count": 39,
   "metadata": {},
   "outputs": [
    {
     "data": {
      "text/plain": [
       "state                                                                     NY\n",
       "date                                                     2020-03-22 00:00:00\n",
       "inpatient_beds_used_covid                                              324.0\n",
       "total_adult_patients_hospitalized_confirmed_covid                        0.0\n",
       "total_pediatric_patients_hospitalized_confirmed_covid                    0.0\n",
       "Month                                                                      3\n",
       "total_beds                                                               0.0\n",
       "dtype: object"
      ]
     },
     "execution_count": 39,
     "metadata": {},
     "output_type": "execute_result"
    }
   ],
   "source": [
    "respuesta_2.min()"
   ]
  },
  {
   "cell_type": "code",
   "execution_count": 40,
   "metadata": {},
   "outputs": [
    {
     "data": {
      "text/plain": [
       "<matplotlib.collections.PathCollection at 0x22342c0ee00>"
      ]
     },
     "execution_count": 40,
     "metadata": {},
     "output_type": "execute_result"
    },
    {
     "data": {
      "image/png": "[encoded data removed]",
      "text/plain": [
       "<Figure size 720x576 with 1 Axes>"
      ]
     },
     "metadata": {
      "needs_background": "light"
     },
     "output_type": "display_data"
    }
   ],
   "source": [
    "plt.figure(figsize = (10,8))\n",
    "x1=respuesta_2['date']\n",
    "y1=respuesta_2['inpatient_beds_used_covid']\n",
    "plt.scatter(x1, y1)"
   ]
  },
  {
   "cell_type": "markdown",
   "metadata": {},
   "source": [
    "# # 3 - ¿Cuáles fueron los cinco Estados que más camas UCI -Unidades de Cuidados Intensivos- utilizaron durante el año 2020? La medición debe realizarse en términos absolutos."
   ]
  },
  {
   "cell_type": "code",
   "execution_count": 42,
   "metadata": {},
   "outputs": [],
   "source": [
    "respuesta_3= resultados_df[['state','date','staffed_icu_adult_patients_confirmed_covid', 'staffed_icu_pediatric_patients_confirmed_covid']]\n",
    "respuesta_3= respuesta_3.loc[(respuesta_3['date']>= '2020-01-01')&(respuesta_3['date']<='2020-12-31')] "
   ]
  },
  {
   "cell_type": "code",
   "execution_count": 43,
   "metadata": {},
   "outputs": [],
   "source": [
    "\n",
    "respuesta_3['staffed_icu_adult_patients_confirmed_covid'] = respuesta_3['staffed_icu_adult_patients_confirmed_covid'].astype(float, errors= 'raise')\n",
    "respuesta_3['staffed_icu_pediatric_patients_confirmed_covid'] = respuesta_3['staffed_icu_pediatric_patients_confirmed_covid'].astype(float, errors= 'raise')"
   ]
  },
  {
   "cell_type": "code",
   "execution_count": 44,
   "metadata": {},
   "outputs": [],
   "source": [
    "respuesta_3['staffed_icu_adult_patients_confirmed_covid'] = respuesta_3['staffed_icu_adult_patients_confirmed_covid'].fillna(0)\n",
    "respuesta_3['staffed_icu_pediatric_patients_confirmed_covid'] = respuesta_3['staffed_icu_pediatric_patients_confirmed_covid'].fillna(0)"
   ]
  },
  {
   "cell_type": "code",
   "execution_count": 45,
   "metadata": {},
   "outputs": [
    {
     "data": {
      "text/html": [
       "<div>\n",
       "<style scoped>\n",
       "    .dataframe tbody tr th:only-of-type {\n",
       "        vertical-align: middle;\n",
       "    }\n",
       "\n",
       "    .dataframe tbody tr th {\n",
       "        vertical-align: top;\n",
       "    }\n",
       "\n",
       "    .dataframe thead th {\n",
       "        text-align: right;\n",
       "    }\n",
       "</style>\n",
       "<table border=\"1\" class=\"dataframe\">\n",
       "  <thead>\n",
       "    <tr style=\"text-align: right;\">\n",
       "      <th></th>\n",
       "      <th>state</th>\n",
       "      <th>date</th>\n",
       "      <th>staffed_icu_adult_patients_confirmed_covid</th>\n",
       "      <th>staffed_icu_pediatric_patients_confirmed_covid</th>\n",
       "    </tr>\n",
       "  </thead>\n",
       "  <tbody>\n",
       "    <tr>\n",
       "      <th>0</th>\n",
       "      <td>ID</td>\n",
       "      <td>2020-12-22T00:00:00.000</td>\n",
       "      <td>97.0</td>\n",
       "      <td>0.0</td>\n",
       "    </tr>\n",
       "    <tr>\n",
       "      <th>1</th>\n",
       "      <td>VT</td>\n",
       "      <td>2020-10-16T00:00:00.000</td>\n",
       "      <td>0.0</td>\n",
       "      <td>0.0</td>\n",
       "    </tr>\n",
       "    <tr>\n",
       "      <th>2</th>\n",
       "      <td>AR</td>\n",
       "      <td>2020-10-14T00:00:00.000</td>\n",
       "      <td>217.0</td>\n",
       "      <td>0.0</td>\n",
       "    </tr>\n",
       "    <tr>\n",
       "      <th>3</th>\n",
       "      <td>VI</td>\n",
       "      <td>2020-10-13T00:00:00.000</td>\n",
       "      <td>1.0</td>\n",
       "      <td>0.0</td>\n",
       "    </tr>\n",
       "    <tr>\n",
       "      <th>4</th>\n",
       "      <td>VI</td>\n",
       "      <td>2020-10-12T00:00:00.000</td>\n",
       "      <td>1.0</td>\n",
       "      <td>0.0</td>\n",
       "    </tr>\n",
       "    <tr>\n",
       "      <th>...</th>\n",
       "      <td>...</td>\n",
       "      <td>...</td>\n",
       "      <td>...</td>\n",
       "      <td>...</td>\n",
       "    </tr>\n",
       "    <tr>\n",
       "      <th>46220</th>\n",
       "      <td>NY</td>\n",
       "      <td>2020-12-30T00:00:00.000</td>\n",
       "      <td>1300.0</td>\n",
       "      <td>0.0</td>\n",
       "    </tr>\n",
       "    <tr>\n",
       "      <th>46227</th>\n",
       "      <td>RI</td>\n",
       "      <td>2020-12-29T00:00:00.000</td>\n",
       "      <td>62.0</td>\n",
       "      <td>0.0</td>\n",
       "    </tr>\n",
       "    <tr>\n",
       "      <th>46273</th>\n",
       "      <td>NH</td>\n",
       "      <td>2020-12-29T00:00:00.000</td>\n",
       "      <td>55.0</td>\n",
       "      <td>0.0</td>\n",
       "    </tr>\n",
       "    <tr>\n",
       "      <th>46326</th>\n",
       "      <td>CA</td>\n",
       "      <td>2020-12-29T00:00:00.000</td>\n",
       "      <td>4456.0</td>\n",
       "      <td>0.0</td>\n",
       "    </tr>\n",
       "    <tr>\n",
       "      <th>46536</th>\n",
       "      <td>ID</td>\n",
       "      <td>2020-12-29T00:00:00.000</td>\n",
       "      <td>88.0</td>\n",
       "      <td>0.0</td>\n",
       "    </tr>\n",
       "  </tbody>\n",
       "</table>\n",
       "<p>16393 rows × 4 columns</p>\n",
       "</div>"
      ],
      "text/plain": [
       "      state                     date  \\\n",
       "0        ID  2020-12-22T00:00:00.000   \n",
       "1        VT  2020-10-16T00:00:00.000   \n",
       "2        AR  2020-10-14T00:00:00.000   \n",
       "3        VI  2020-10-13T00:00:00.000   \n",
       "4        VI  2020-10-12T00:00:00.000   \n",
       "...     ...                      ...   \n",
       "46220    NY  2020-12-30T00:00:00.000   \n",
       "46227    RI  2020-12-29T00:00:00.000   \n",
       "46273    NH  2020-12-29T00:00:00.000   \n",
       "46326    CA  2020-12-29T00:00:00.000   \n",
       "46536    ID  2020-12-29T00:00:00.000   \n",
       "\n",
       "       staffed_icu_adult_patients_confirmed_covid  \\\n",
       "0                                            97.0   \n",
       "1                                             0.0   \n",
       "2                                           217.0   \n",
       "3                                             1.0   \n",
       "4                                             1.0   \n",
       "...                                           ...   \n",
       "46220                                      1300.0   \n",
       "46227                                        62.0   \n",
       "46273                                        55.0   \n",
       "46326                                      4456.0   \n",
       "46536                                        88.0   \n",
       "\n",
       "       staffed_icu_pediatric_patients_confirmed_covid  \n",
       "0                                                 0.0  \n",
       "1                                                 0.0  \n",
       "2                                                 0.0  \n",
       "3                                                 0.0  \n",
       "4                                                 0.0  \n",
       "...                                               ...  \n",
       "46220                                             0.0  \n",
       "46227                                             0.0  \n",
       "46273                                             0.0  \n",
       "46326                                             0.0  \n",
       "46536                                             0.0  \n",
       "\n",
       "[16393 rows x 4 columns]"
      ]
     },
     "execution_count": 45,
     "metadata": {},
     "output_type": "execute_result"
    }
   ],
   "source": [
    "respuesta_3.dropna()"
   ]
  },
  {
   "cell_type": "code",
   "execution_count": 46,
   "metadata": {},
   "outputs": [
    {
     "data": {
      "text/html": [
       "<div>\n",
       "<style scoped>\n",
       "    .dataframe tbody tr th:only-of-type {\n",
       "        vertical-align: middle;\n",
       "    }\n",
       "\n",
       "    .dataframe tbody tr th {\n",
       "        vertical-align: top;\n",
       "    }\n",
       "\n",
       "    .dataframe thead th {\n",
       "        text-align: right;\n",
       "    }\n",
       "</style>\n",
       "<table border=\"1\" class=\"dataframe\">\n",
       "  <thead>\n",
       "    <tr style=\"text-align: right;\">\n",
       "      <th></th>\n",
       "      <th>state</th>\n",
       "      <th>date</th>\n",
       "      <th>staffed_icu_adult_patients_confirmed_covid</th>\n",
       "      <th>staffed_icu_pediatric_patients_confirmed_covid</th>\n",
       "      <th>Total_icu</th>\n",
       "    </tr>\n",
       "  </thead>\n",
       "  <tbody>\n",
       "    <tr>\n",
       "      <th>0</th>\n",
       "      <td>ID</td>\n",
       "      <td>2020-12-22T00:00:00.000</td>\n",
       "      <td>97.0</td>\n",
       "      <td>0.0</td>\n",
       "      <td>97.0</td>\n",
       "    </tr>\n",
       "    <tr>\n",
       "      <th>1</th>\n",
       "      <td>VT</td>\n",
       "      <td>2020-10-16T00:00:00.000</td>\n",
       "      <td>0.0</td>\n",
       "      <td>0.0</td>\n",
       "      <td>0.0</td>\n",
       "    </tr>\n",
       "    <tr>\n",
       "      <th>2</th>\n",
       "      <td>AR</td>\n",
       "      <td>2020-10-14T00:00:00.000</td>\n",
       "      <td>217.0</td>\n",
       "      <td>0.0</td>\n",
       "      <td>217.0</td>\n",
       "    </tr>\n",
       "    <tr>\n",
       "      <th>3</th>\n",
       "      <td>VI</td>\n",
       "      <td>2020-10-13T00:00:00.000</td>\n",
       "      <td>1.0</td>\n",
       "      <td>0.0</td>\n",
       "      <td>1.0</td>\n",
       "    </tr>\n",
       "    <tr>\n",
       "      <th>4</th>\n",
       "      <td>VI</td>\n",
       "      <td>2020-10-12T00:00:00.000</td>\n",
       "      <td>1.0</td>\n",
       "      <td>0.0</td>\n",
       "      <td>1.0</td>\n",
       "    </tr>\n",
       "    <tr>\n",
       "      <th>...</th>\n",
       "      <td>...</td>\n",
       "      <td>...</td>\n",
       "      <td>...</td>\n",
       "      <td>...</td>\n",
       "      <td>...</td>\n",
       "    </tr>\n",
       "    <tr>\n",
       "      <th>46220</th>\n",
       "      <td>NY</td>\n",
       "      <td>2020-12-30T00:00:00.000</td>\n",
       "      <td>1300.0</td>\n",
       "      <td>0.0</td>\n",
       "      <td>1300.0</td>\n",
       "    </tr>\n",
       "    <tr>\n",
       "      <th>46227</th>\n",
       "      <td>RI</td>\n",
       "      <td>2020-12-29T00:00:00.000</td>\n",
       "      <td>62.0</td>\n",
       "      <td>0.0</td>\n",
       "      <td>62.0</td>\n",
       "    </tr>\n",
       "    <tr>\n",
       "      <th>46273</th>\n",
       "      <td>NH</td>\n",
       "      <td>2020-12-29T00:00:00.000</td>\n",
       "      <td>55.0</td>\n",
       "      <td>0.0</td>\n",
       "      <td>55.0</td>\n",
       "    </tr>\n",
       "    <tr>\n",
       "      <th>46326</th>\n",
       "      <td>CA</td>\n",
       "      <td>2020-12-29T00:00:00.000</td>\n",
       "      <td>4456.0</td>\n",
       "      <td>0.0</td>\n",
       "      <td>4456.0</td>\n",
       "    </tr>\n",
       "    <tr>\n",
       "      <th>46536</th>\n",
       "      <td>ID</td>\n",
       "      <td>2020-12-29T00:00:00.000</td>\n",
       "      <td>88.0</td>\n",
       "      <td>0.0</td>\n",
       "      <td>88.0</td>\n",
       "    </tr>\n",
       "  </tbody>\n",
       "</table>\n",
       "<p>16393 rows × 5 columns</p>\n",
       "</div>"
      ],
      "text/plain": [
       "      state                     date  \\\n",
       "0        ID  2020-12-22T00:00:00.000   \n",
       "1        VT  2020-10-16T00:00:00.000   \n",
       "2        AR  2020-10-14T00:00:00.000   \n",
       "3        VI  2020-10-13T00:00:00.000   \n",
       "4        VI  2020-10-12T00:00:00.000   \n",
       "...     ...                      ...   \n",
       "46220    NY  2020-12-30T00:00:00.000   \n",
       "46227    RI  2020-12-29T00:00:00.000   \n",
       "46273    NH  2020-12-29T00:00:00.000   \n",
       "46326    CA  2020-12-29T00:00:00.000   \n",
       "46536    ID  2020-12-29T00:00:00.000   \n",
       "\n",
       "       staffed_icu_adult_patients_confirmed_covid  \\\n",
       "0                                            97.0   \n",
       "1                                             0.0   \n",
       "2                                           217.0   \n",
       "3                                             1.0   \n",
       "4                                             1.0   \n",
       "...                                           ...   \n",
       "46220                                      1300.0   \n",
       "46227                                        62.0   \n",
       "46273                                        55.0   \n",
       "46326                                      4456.0   \n",
       "46536                                        88.0   \n",
       "\n",
       "       staffed_icu_pediatric_patients_confirmed_covid  Total_icu  \n",
       "0                                                 0.0       97.0  \n",
       "1                                                 0.0        0.0  \n",
       "2                                                 0.0      217.0  \n",
       "3                                                 0.0        1.0  \n",
       "4                                                 0.0        1.0  \n",
       "...                                               ...        ...  \n",
       "46220                                             0.0     1300.0  \n",
       "46227                                             0.0       62.0  \n",
       "46273                                             0.0       55.0  \n",
       "46326                                             0.0     4456.0  \n",
       "46536                                             0.0       88.0  \n",
       "\n",
       "[16393 rows x 5 columns]"
      ]
     },
     "execution_count": 46,
     "metadata": {},
     "output_type": "execute_result"
    }
   ],
   "source": [
    "respuesta_3['Total_icu']= respuesta_3['staffed_icu_pediatric_patients_confirmed_covid']+respuesta_3['staffed_icu_adult_patients_confirmed_covid']\n",
    "respuesta_3\n"
   ]
  },
  {
   "cell_type": "code",
   "execution_count": 47,
   "metadata": {},
   "outputs": [],
   "source": [
    "Max_Estado= respuesta_3.groupby(\"state\")['Total_icu'].sum()"
   ]
  },
  {
   "cell_type": "code",
   "execution_count": 48,
   "metadata": {},
   "outputs": [],
   "source": [
    "Max_Estado=(Max_Estado.to_frame())"
   ]
  },
  {
   "cell_type": "code",
   "execution_count": 49,
   "metadata": {},
   "outputs": [
    {
     "data": {
      "text/html": [
       "<div>\n",
       "<style scoped>\n",
       "    .dataframe tbody tr th:only-of-type {\n",
       "        vertical-align: middle;\n",
       "    }\n",
       "\n",
       "    .dataframe tbody tr th {\n",
       "        vertical-align: top;\n",
       "    }\n",
       "\n",
       "    .dataframe thead th {\n",
       "        text-align: right;\n",
       "    }\n",
       "</style>\n",
       "<table border=\"1\" class=\"dataframe\">\n",
       "  <thead>\n",
       "    <tr style=\"text-align: right;\">\n",
       "      <th></th>\n",
       "      <th>Total_icu</th>\n",
       "    </tr>\n",
       "    <tr>\n",
       "      <th>state</th>\n",
       "      <th></th>\n",
       "    </tr>\n",
       "  </thead>\n",
       "  <tbody>\n",
       "    <tr>\n",
       "      <th>TX</th>\n",
       "      <td>332934.0</td>\n",
       "    </tr>\n",
       "    <tr>\n",
       "      <th>CA</th>\n",
       "      <td>257250.0</td>\n",
       "    </tr>\n",
       "    <tr>\n",
       "      <th>FL</th>\n",
       "      <td>174835.0</td>\n",
       "    </tr>\n",
       "    <tr>\n",
       "      <th>GA</th>\n",
       "      <td>94935.0</td>\n",
       "    </tr>\n",
       "    <tr>\n",
       "      <th>OH</th>\n",
       "      <td>88631.0</td>\n",
       "    </tr>\n",
       "  </tbody>\n",
       "</table>\n",
       "</div>"
      ],
      "text/plain": [
       "       Total_icu\n",
       "state           \n",
       "TX      332934.0\n",
       "CA      257250.0\n",
       "FL      174835.0\n",
       "GA       94935.0\n",
       "OH       88631.0"
      ]
     },
     "execution_count": 49,
     "metadata": {},
     "output_type": "execute_result"
    }
   ],
   "source": [
    "Max_Estado.sort_values(by='Total_icu',ascending=False).head(5)"
   ]
  },
  {
   "cell_type": "markdown",
   "metadata": {},
   "source": [
    "# # 4 - ¿Qué cantidad de camas se utilizaron, por Estado, para pacientes pediátricos con COVID durante el 2020?"
   ]
  },
  {
   "cell_type": "code",
   "execution_count": 50,
   "metadata": {},
   "outputs": [],
   "source": [
    "Max_Estado1=respuesta_3.groupby(\"state\")['staffed_icu_pediatric_patients_confirmed_covid'].sum()"
   ]
  },
  {
   "cell_type": "code",
   "execution_count": 51,
   "metadata": {},
   "outputs": [],
   "source": [
    "Max_Estado1=(Max_Estado1.to_frame())"
   ]
  },
  {
   "cell_type": "code",
   "execution_count": 52,
   "metadata": {},
   "outputs": [
    {
     "data": {
      "text/html": [
       "<div>\n",
       "<style scoped>\n",
       "    .dataframe tbody tr th:only-of-type {\n",
       "        vertical-align: middle;\n",
       "    }\n",
       "\n",
       "    .dataframe tbody tr th {\n",
       "        vertical-align: top;\n",
       "    }\n",
       "\n",
       "    .dataframe thead th {\n",
       "        text-align: right;\n",
       "    }\n",
       "</style>\n",
       "<table border=\"1\" class=\"dataframe\">\n",
       "  <thead>\n",
       "    <tr style=\"text-align: right;\">\n",
       "      <th></th>\n",
       "      <th>staffed_icu_pediatric_patients_confirmed_covid</th>\n",
       "    </tr>\n",
       "    <tr>\n",
       "      <th>state</th>\n",
       "      <th></th>\n",
       "    </tr>\n",
       "  </thead>\n",
       "  <tbody>\n",
       "    <tr>\n",
       "      <th>CA</th>\n",
       "      <td>989.0</td>\n",
       "    </tr>\n",
       "    <tr>\n",
       "      <th>MO</th>\n",
       "      <td>953.0</td>\n",
       "    </tr>\n",
       "    <tr>\n",
       "      <th>WI</th>\n",
       "      <td>815.0</td>\n",
       "    </tr>\n",
       "    <tr>\n",
       "      <th>AZ</th>\n",
       "      <td>625.0</td>\n",
       "    </tr>\n",
       "    <tr>\n",
       "      <th>GA</th>\n",
       "      <td>518.0</td>\n",
       "    </tr>\n",
       "    <tr>\n",
       "      <th>IN</th>\n",
       "      <td>474.0</td>\n",
       "    </tr>\n",
       "    <tr>\n",
       "      <th>RI</th>\n",
       "      <td>451.0</td>\n",
       "    </tr>\n",
       "    <tr>\n",
       "      <th>IL</th>\n",
       "      <td>444.0</td>\n",
       "    </tr>\n",
       "    <tr>\n",
       "      <th>AR</th>\n",
       "      <td>406.0</td>\n",
       "    </tr>\n",
       "    <tr>\n",
       "      <th>NY</th>\n",
       "      <td>340.0</td>\n",
       "    </tr>\n",
       "    <tr>\n",
       "      <th>TX</th>\n",
       "      <td>322.0</td>\n",
       "    </tr>\n",
       "    <tr>\n",
       "      <th>FL</th>\n",
       "      <td>284.0</td>\n",
       "    </tr>\n",
       "    <tr>\n",
       "      <th>SC</th>\n",
       "      <td>254.0</td>\n",
       "    </tr>\n",
       "    <tr>\n",
       "      <th>PA</th>\n",
       "      <td>252.0</td>\n",
       "    </tr>\n",
       "    <tr>\n",
       "      <th>OK</th>\n",
       "      <td>248.0</td>\n",
       "    </tr>\n",
       "    <tr>\n",
       "      <th>DC</th>\n",
       "      <td>245.0</td>\n",
       "    </tr>\n",
       "    <tr>\n",
       "      <th>MN</th>\n",
       "      <td>223.0</td>\n",
       "    </tr>\n",
       "    <tr>\n",
       "      <th>OH</th>\n",
       "      <td>203.0</td>\n",
       "    </tr>\n",
       "    <tr>\n",
       "      <th>MI</th>\n",
       "      <td>197.0</td>\n",
       "    </tr>\n",
       "    <tr>\n",
       "      <th>CO</th>\n",
       "      <td>191.0</td>\n",
       "    </tr>\n",
       "    <tr>\n",
       "      <th>VA</th>\n",
       "      <td>191.0</td>\n",
       "    </tr>\n",
       "    <tr>\n",
       "      <th>NM</th>\n",
       "      <td>184.0</td>\n",
       "    </tr>\n",
       "    <tr>\n",
       "      <th>WA</th>\n",
       "      <td>141.0</td>\n",
       "    </tr>\n",
       "    <tr>\n",
       "      <th>WY</th>\n",
       "      <td>98.0</td>\n",
       "    </tr>\n",
       "    <tr>\n",
       "      <th>UT</th>\n",
       "      <td>94.0</td>\n",
       "    </tr>\n",
       "    <tr>\n",
       "      <th>NJ</th>\n",
       "      <td>85.0</td>\n",
       "    </tr>\n",
       "    <tr>\n",
       "      <th>KS</th>\n",
       "      <td>80.0</td>\n",
       "    </tr>\n",
       "    <tr>\n",
       "      <th>MS</th>\n",
       "      <td>70.0</td>\n",
       "    </tr>\n",
       "    <tr>\n",
       "      <th>OR</th>\n",
       "      <td>65.0</td>\n",
       "    </tr>\n",
       "    <tr>\n",
       "      <th>MD</th>\n",
       "      <td>57.0</td>\n",
       "    </tr>\n",
       "    <tr>\n",
       "      <th>ND</th>\n",
       "      <td>43.0</td>\n",
       "    </tr>\n",
       "    <tr>\n",
       "      <th>AL</th>\n",
       "      <td>39.0</td>\n",
       "    </tr>\n",
       "    <tr>\n",
       "      <th>AK</th>\n",
       "      <td>38.0</td>\n",
       "    </tr>\n",
       "    <tr>\n",
       "      <th>ID</th>\n",
       "      <td>34.0</td>\n",
       "    </tr>\n",
       "    <tr>\n",
       "      <th>NC</th>\n",
       "      <td>31.0</td>\n",
       "    </tr>\n",
       "    <tr>\n",
       "      <th>WV</th>\n",
       "      <td>28.0</td>\n",
       "    </tr>\n",
       "    <tr>\n",
       "      <th>HI</th>\n",
       "      <td>19.0</td>\n",
       "    </tr>\n",
       "    <tr>\n",
       "      <th>CT</th>\n",
       "      <td>11.0</td>\n",
       "    </tr>\n",
       "    <tr>\n",
       "      <th>ME</th>\n",
       "      <td>10.0</td>\n",
       "    </tr>\n",
       "    <tr>\n",
       "      <th>SD</th>\n",
       "      <td>9.0</td>\n",
       "    </tr>\n",
       "  </tbody>\n",
       "</table>\n",
       "</div>"
      ],
      "text/plain": [
       "       staffed_icu_pediatric_patients_confirmed_covid\n",
       "state                                                \n",
       "CA                                              989.0\n",
       "MO                                              953.0\n",
       "WI                                              815.0\n",
       "AZ                                              625.0\n",
       "GA                                              518.0\n",
       "IN                                              474.0\n",
       "RI                                              451.0\n",
       "IL                                              444.0\n",
       "AR                                              406.0\n",
       "NY                                              340.0\n",
       "TX                                              322.0\n",
       "FL                                              284.0\n",
       "SC                                              254.0\n",
       "PA                                              252.0\n",
       "OK                                              248.0\n",
       "DC                                              245.0\n",
       "MN                                              223.0\n",
       "OH                                              203.0\n",
       "MI                                              197.0\n",
       "CO                                              191.0\n",
       "VA                                              191.0\n",
       "NM                                              184.0\n",
       "WA                                              141.0\n",
       "WY                                               98.0\n",
       "UT                                               94.0\n",
       "NJ                                               85.0\n",
       "KS                                               80.0\n",
       "MS                                               70.0\n",
       "OR                                               65.0\n",
       "MD                                               57.0\n",
       "ND                                               43.0\n",
       "AL                                               39.0\n",
       "AK                                               38.0\n",
       "ID                                               34.0\n",
       "NC                                               31.0\n",
       "WV                                               28.0\n",
       "HI                                               19.0\n",
       "CT                                               11.0\n",
       "ME                                               10.0\n",
       "SD                                                9.0"
      ]
     },
     "execution_count": 52,
     "metadata": {},
     "output_type": "execute_result"
    }
   ],
   "source": [
    "Max_Estado1.sort_values(by='staffed_icu_pediatric_patients_confirmed_covid',ascending=False).head(40)"
   ]
  },
  {
   "cell_type": "markdown",
   "metadata": {},
   "source": [
    "# # 5 - ¿Qué porcentaje de camas UCI corresponden a casos confirmados de COVID-19? Agrupe por Estado."
   ]
  },
  {
   "cell_type": "code",
   "execution_count": 53,
   "metadata": {},
   "outputs": [],
   "source": [
    "respuesta5= resultados_df[['state','date','staffed_icu_adult_patients_confirmed_covid', 'staffed_icu_pediatric_patients_confirmed_covid','staffed_adult_icu_bed_occupancy','staffed_pediatric_icu_bed_occupancy']]"
   ]
  },
  {
   "cell_type": "code",
   "execution_count": 54,
   "metadata": {},
   "outputs": [],
   "source": [
    "respuesta5= respuesta5.loc[(respuesta5['date']>= '2020-01-01')&(respuesta5['date']<='2020-12-31')] "
   ]
  },
  {
   "cell_type": "code",
   "execution_count": 55,
   "metadata": {},
   "outputs": [],
   "source": [
    "\n",
    "respuesta5['staffed_icu_adult_patients_confirmed_covid'] = respuesta5['staffed_icu_adult_patients_confirmed_covid'].astype(float, errors= 'raise')\n",
    "respuesta5['staffed_icu_pediatric_patients_confirmed_covid'] = respuesta5['staffed_icu_pediatric_patients_confirmed_covid'].astype(float, errors= 'raise')\n",
    "respuesta5['staffed_adult_icu_bed_occupancy'] = respuesta5['staffed_adult_icu_bed_occupancy'].astype(float, errors= 'raise')\n",
    "respuesta5['staffed_pediatric_icu_bed_occupancy'] = respuesta5['staffed_pediatric_icu_bed_occupancy'].astype(float, errors= 'raise')"
   ]
  },
  {
   "cell_type": "code",
   "execution_count": 56,
   "metadata": {},
   "outputs": [],
   "source": [
    "respuesta5['staffed_icu_adult_patients_confirmed_covid'] = respuesta5['staffed_icu_adult_patients_confirmed_covid'].fillna(0)\n",
    "respuesta5['staffed_icu_pediatric_patients_confirmed_covid'] = respuesta5['staffed_icu_pediatric_patients_confirmed_covid'].fillna(0)\n",
    "respuesta5['staffed_adult_icu_bed_occupancy'] = respuesta5['staffed_adult_icu_bed_occupancy'].fillna(0)\n",
    "respuesta5['staffed_pediatric_icu_bed_occupancy'] = respuesta5['staffed_pediatric_icu_bed_occupancy'].fillna(0)"
   ]
  },
  {
   "cell_type": "code",
   "execution_count": 57,
   "metadata": {},
   "outputs": [],
   "source": [
    "respuesta5['Total_icu_covid']= respuesta5['staffed_icu_pediatric_patients_confirmed_covid']+respuesta5['staffed_icu_adult_patients_confirmed_covid']"
   ]
  },
  {
   "cell_type": "code",
   "execution_count": 59,
   "metadata": {},
   "outputs": [],
   "source": [
    "respuesta5['Total_icu']= respuesta5['staffed_adult_icu_bed_occupancy']+respuesta5['staffed_pediatric_icu_bed_occupancy']"
   ]
  },
  {
   "cell_type": "code",
   "execution_count": 60,
   "metadata": {},
   "outputs": [],
   "source": [
    "PorcentajeCama= respuesta5.groupby(\"state\")['Total_icu'].sum()"
   ]
  },
  {
   "cell_type": "code",
   "execution_count": 61,
   "metadata": {},
   "outputs": [],
   "source": [
    "PorcentajeCama=(PorcentajeCama.to_frame())"
   ]
  },
  {
   "cell_type": "code",
   "execution_count": 62,
   "metadata": {},
   "outputs": [],
   "source": [
    "PorcentajeCamaCovid= respuesta5.groupby(\"state\")['Total_icu_covid'].sum()"
   ]
  },
  {
   "cell_type": "code",
   "execution_count": 63,
   "metadata": {},
   "outputs": [],
   "source": [
    "PorcentajeCamaCovid= (PorcentajeCamaCovid.to_frame())"
   ]
  },
  {
   "cell_type": "code",
   "execution_count": 64,
   "metadata": {},
   "outputs": [],
   "source": [
    "comparacion= pd.merge(PorcentajeCama,PorcentajeCamaCovid, on= 'state', how= 'left')"
   ]
  },
  {
   "cell_type": "code",
   "execution_count": 65,
   "metadata": {},
   "outputs": [],
   "source": [
    "comparacion['Porcentaje_covid_icu']=round(((comparacion['Total_icu_covid']*100)/comparacion['Total_icu']),2)"
   ]
  },
  {
   "cell_type": "code",
   "execution_count": 66,
   "metadata": {},
   "outputs": [],
   "source": [
    "respuesta_5= comparacion.groupby(\"state\")['Porcentaje_covid_icu'].sum()"
   ]
  },
  {
   "cell_type": "code",
   "execution_count": 67,
   "metadata": {},
   "outputs": [],
   "source": [
    "respuesta_5= (respuesta_5.to_frame())"
   ]
  },
  {
   "cell_type": "code",
   "execution_count": 68,
   "metadata": {},
   "outputs": [
    {
     "data": {
      "text/html": [
       "<div>\n",
       "<style scoped>\n",
       "    .dataframe tbody tr th:only-of-type {\n",
       "        vertical-align: middle;\n",
       "    }\n",
       "\n",
       "    .dataframe tbody tr th {\n",
       "        vertical-align: top;\n",
       "    }\n",
       "\n",
       "    .dataframe thead th {\n",
       "        text-align: right;\n",
       "    }\n",
       "</style>\n",
       "<table border=\"1\" class=\"dataframe\">\n",
       "  <thead>\n",
       "    <tr style=\"text-align: right;\">\n",
       "      <th></th>\n",
       "      <th>Porcentaje_covid_icu</th>\n",
       "    </tr>\n",
       "    <tr>\n",
       "      <th>state</th>\n",
       "      <th></th>\n",
       "    </tr>\n",
       "  </thead>\n",
       "  <tbody>\n",
       "    <tr>\n",
       "      <th>WY</th>\n",
       "      <td>36.89</td>\n",
       "    </tr>\n",
       "    <tr>\n",
       "      <th>NV</th>\n",
       "      <td>36.20</td>\n",
       "    </tr>\n",
       "    <tr>\n",
       "      <th>MS</th>\n",
       "      <td>34.98</td>\n",
       "    </tr>\n",
       "    <tr>\n",
       "      <th>SD</th>\n",
       "      <td>33.25</td>\n",
       "    </tr>\n",
       "    <tr>\n",
       "      <th>AL</th>\n",
       "      <td>32.79</td>\n",
       "    </tr>\n",
       "    <tr>\n",
       "      <th>TX</th>\n",
       "      <td>32.02</td>\n",
       "    </tr>\n",
       "    <tr>\n",
       "      <th>AZ</th>\n",
       "      <td>31.67</td>\n",
       "    </tr>\n",
       "    <tr>\n",
       "      <th>OK</th>\n",
       "      <td>30.48</td>\n",
       "    </tr>\n",
       "    <tr>\n",
       "      <th>NE</th>\n",
       "      <td>30.06</td>\n",
       "    </tr>\n",
       "    <tr>\n",
       "      <th>MT</th>\n",
       "      <td>29.37</td>\n",
       "    </tr>\n",
       "    <tr>\n",
       "      <th>GA</th>\n",
       "      <td>28.34</td>\n",
       "    </tr>\n",
       "    <tr>\n",
       "      <th>TN</th>\n",
       "      <td>27.62</td>\n",
       "    </tr>\n",
       "    <tr>\n",
       "      <th>ND</th>\n",
       "      <td>27.35</td>\n",
       "    </tr>\n",
       "    <tr>\n",
       "      <th>NM</th>\n",
       "      <td>27.14</td>\n",
       "    </tr>\n",
       "    <tr>\n",
       "      <th>AR</th>\n",
       "      <td>26.76</td>\n",
       "    </tr>\n",
       "    <tr>\n",
       "      <th>ID</th>\n",
       "      <td>25.16</td>\n",
       "    </tr>\n",
       "    <tr>\n",
       "      <th>KS</th>\n",
       "      <td>23.40</td>\n",
       "    </tr>\n",
       "    <tr>\n",
       "      <th>LA</th>\n",
       "      <td>23.32</td>\n",
       "    </tr>\n",
       "    <tr>\n",
       "      <th>MO</th>\n",
       "      <td>23.28</td>\n",
       "    </tr>\n",
       "    <tr>\n",
       "      <th>CA</th>\n",
       "      <td>23.10</td>\n",
       "    </tr>\n",
       "    <tr>\n",
       "      <th>WI</th>\n",
       "      <td>22.79</td>\n",
       "    </tr>\n",
       "    <tr>\n",
       "      <th>IN</th>\n",
       "      <td>22.61</td>\n",
       "    </tr>\n",
       "    <tr>\n",
       "      <th>KY</th>\n",
       "      <td>22.10</td>\n",
       "    </tr>\n",
       "    <tr>\n",
       "      <th>NC</th>\n",
       "      <td>21.36</td>\n",
       "    </tr>\n",
       "    <tr>\n",
       "      <th>SC</th>\n",
       "      <td>21.08</td>\n",
       "    </tr>\n",
       "    <tr>\n",
       "      <th>IL</th>\n",
       "      <td>20.41</td>\n",
       "    </tr>\n",
       "    <tr>\n",
       "      <th>CO</th>\n",
       "      <td>19.93</td>\n",
       "    </tr>\n",
       "    <tr>\n",
       "      <th>FL</th>\n",
       "      <td>19.66</td>\n",
       "    </tr>\n",
       "    <tr>\n",
       "      <th>IA</th>\n",
       "      <td>19.36</td>\n",
       "    </tr>\n",
       "    <tr>\n",
       "      <th>VI</th>\n",
       "      <td>18.89</td>\n",
       "    </tr>\n",
       "    <tr>\n",
       "      <th>NJ</th>\n",
       "      <td>18.64</td>\n",
       "    </tr>\n",
       "    <tr>\n",
       "      <th>UT</th>\n",
       "      <td>18.06</td>\n",
       "    </tr>\n",
       "    <tr>\n",
       "      <th>MD</th>\n",
       "      <td>17.80</td>\n",
       "    </tr>\n",
       "    <tr>\n",
       "      <th>MN</th>\n",
       "      <td>17.43</td>\n",
       "    </tr>\n",
       "    <tr>\n",
       "      <th>OH</th>\n",
       "      <td>17.00</td>\n",
       "    </tr>\n",
       "    <tr>\n",
       "      <th>VA</th>\n",
       "      <td>16.48</td>\n",
       "    </tr>\n",
       "    <tr>\n",
       "      <th>MI</th>\n",
       "      <td>16.30</td>\n",
       "    </tr>\n",
       "    <tr>\n",
       "      <th>WV</th>\n",
       "      <td>15.27</td>\n",
       "    </tr>\n",
       "    <tr>\n",
       "      <th>RI</th>\n",
       "      <td>15.14</td>\n",
       "    </tr>\n",
       "    <tr>\n",
       "      <th>PA</th>\n",
       "      <td>14.76</td>\n",
       "    </tr>\n",
       "  </tbody>\n",
       "</table>\n",
       "</div>"
      ],
      "text/plain": [
       "       Porcentaje_covid_icu\n",
       "state                      \n",
       "WY                    36.89\n",
       "NV                    36.20\n",
       "MS                    34.98\n",
       "SD                    33.25\n",
       "AL                    32.79\n",
       "TX                    32.02\n",
       "AZ                    31.67\n",
       "OK                    30.48\n",
       "NE                    30.06\n",
       "MT                    29.37\n",
       "GA                    28.34\n",
       "TN                    27.62\n",
       "ND                    27.35\n",
       "NM                    27.14\n",
       "AR                    26.76\n",
       "ID                    25.16\n",
       "KS                    23.40\n",
       "LA                    23.32\n",
       "MO                    23.28\n",
       "CA                    23.10\n",
       "WI                    22.79\n",
       "IN                    22.61\n",
       "KY                    22.10\n",
       "NC                    21.36\n",
       "SC                    21.08\n",
       "IL                    20.41\n",
       "CO                    19.93\n",
       "FL                    19.66\n",
       "IA                    19.36\n",
       "VI                    18.89\n",
       "NJ                    18.64\n",
       "UT                    18.06\n",
       "MD                    17.80\n",
       "MN                    17.43\n",
       "OH                    17.00\n",
       "VA                    16.48\n",
       "MI                    16.30\n",
       "WV                    15.27\n",
       "RI                    15.14\n",
       "PA                    14.76"
      ]
     },
     "execution_count": 68,
     "metadata": {},
     "output_type": "execute_result"
    }
   ],
   "source": [
    "respuesta_5.sort_values(by='Porcentaje_covid_icu',ascending=False).head(40)"
   ]
  },
  {
   "cell_type": "markdown",
   "metadata": {},
   "source": [
    "# # 6 - ¿Cuántas muertes por covid hubo, por Estado, durante el año 2021?"
   ]
  },
  {
   "cell_type": "code",
   "execution_count": 69,
   "metadata": {},
   "outputs": [],
   "source": [
    "respuesta6= resultados_df[['state','date','deaths_covid']]"
   ]
  },
  {
   "cell_type": "code",
   "execution_count": 70,
   "metadata": {},
   "outputs": [
    {
     "name": "stderr",
     "output_type": "stream",
     "text": [
      "C:\\Users\\User\\AppData\\Local\\Temp\\ipykernel_10596\\2100414399.py:1: SettingWithCopyWarning: \n",
      "A value is trying to be set on a copy of a slice from a DataFrame.\n",
      "Try using .loc[row_indexer,col_indexer] = value instead\n",
      "\n",
      "See the caveats in the documentation: https://pandas.pydata.org/pandas-docs/stable/user_guide/indexing.html#returning-a-view-versus-a-copy\n",
      "  respuesta6['deaths_covid'] = respuesta6['deaths_covid'].fillna(0)\n"
     ]
    }
   ],
   "source": [
    "respuesta6['deaths_covid'] = respuesta6['deaths_covid'].fillna(0)"
   ]
  },
  {
   "cell_type": "code",
   "execution_count": 71,
   "metadata": {},
   "outputs": [
    {
     "name": "stderr",
     "output_type": "stream",
     "text": [
      "C:\\Users\\User\\AppData\\Local\\Temp\\ipykernel_10596\\2880883174.py:1: SettingWithCopyWarning: \n",
      "A value is trying to be set on a copy of a slice from a DataFrame.\n",
      "Try using .loc[row_indexer,col_indexer] = value instead\n",
      "\n",
      "See the caveats in the documentation: https://pandas.pydata.org/pandas-docs/stable/user_guide/indexing.html#returning-a-view-versus-a-copy\n",
      "  respuesta6['deaths_covid'] = respuesta6['deaths_covid'].astype(float, errors= 'raise')\n"
     ]
    }
   ],
   "source": [
    "respuesta6['deaths_covid'] = respuesta6['deaths_covid'].astype(float, errors= 'raise')"
   ]
  },
  {
   "cell_type": "code",
   "execution_count": 72,
   "metadata": {},
   "outputs": [],
   "source": [
    "respuesta6= respuesta6.loc[(respuesta6['date']>= '2021-01-01')&(respuesta6['date']<='2021-12-31')]"
   ]
  },
  {
   "cell_type": "code",
   "execution_count": 73,
   "metadata": {},
   "outputs": [
    {
     "name": "stderr",
     "output_type": "stream",
     "text": [
      "C:\\Users\\User\\AppData\\Local\\Temp\\ipykernel_10596\\1009441884.py:1: SettingWithCopyWarning: \n",
      "A value is trying to be set on a copy of a slice from a DataFrame.\n",
      "Try using .loc[row_indexer,col_indexer] = value instead\n",
      "\n",
      "See the caveats in the documentation: https://pandas.pydata.org/pandas-docs/stable/user_guide/indexing.html#returning-a-view-versus-a-copy\n",
      "  respuesta6[\"date\"]= pd.to_datetime(respuesta6['date'])\n",
      "C:\\Users\\User\\AppData\\Local\\Temp\\ipykernel_10596\\1009441884.py:2: SettingWithCopyWarning: \n",
      "A value is trying to be set on a copy of a slice from a DataFrame.\n",
      "Try using .loc[row_indexer,col_indexer] = value instead\n",
      "\n",
      "See the caveats in the documentation: https://pandas.pydata.org/pandas-docs/stable/user_guide/indexing.html#returning-a-view-versus-a-copy\n",
      "  respuesta6[\"Month\"]= respuesta6['date'].dt.month\n"
     ]
    }
   ],
   "source": [
    "respuesta6[\"date\"]= pd.to_datetime(respuesta6['date'])\n",
    "respuesta6[\"Month\"]= respuesta6['date'].dt.month "
   ]
  },
  {
   "cell_type": "code",
   "execution_count": 74,
   "metadata": {},
   "outputs": [
    {
     "data": {
      "text/plain": [
       "315733.0"
      ]
     },
     "execution_count": 74,
     "metadata": {},
     "output_type": "execute_result"
    }
   ],
   "source": [
    "respuesta6.deaths_covid.sum()"
   ]
  },
  {
   "cell_type": "code",
   "execution_count": 75,
   "metadata": {},
   "outputs": [],
   "source": [
    "muertes_covid= respuesta6.groupby(\"state\")['deaths_covid'].sum()"
   ]
  },
  {
   "cell_type": "code",
   "execution_count": 76,
   "metadata": {},
   "outputs": [],
   "source": [
    "muertes_covid= (muertes_covid.to_frame())"
   ]
  },
  {
   "cell_type": "code",
   "execution_count": 77,
   "metadata": {},
   "outputs": [
    {
     "data": {
      "text/html": [
       "<div>\n",
       "<style scoped>\n",
       "    .dataframe tbody tr th:only-of-type {\n",
       "        vertical-align: middle;\n",
       "    }\n",
       "\n",
       "    .dataframe tbody tr th {\n",
       "        vertical-align: top;\n",
       "    }\n",
       "\n",
       "    .dataframe thead th {\n",
       "        text-align: right;\n",
       "    }\n",
       "</style>\n",
       "<table border=\"1\" class=\"dataframe\">\n",
       "  <thead>\n",
       "    <tr style=\"text-align: right;\">\n",
       "      <th></th>\n",
       "      <th>deaths_covid</th>\n",
       "    </tr>\n",
       "    <tr>\n",
       "      <th>state</th>\n",
       "      <th></th>\n",
       "    </tr>\n",
       "  </thead>\n",
       "  <tbody>\n",
       "    <tr>\n",
       "      <th>CA</th>\n",
       "      <td>35046.0</td>\n",
       "    </tr>\n",
       "    <tr>\n",
       "      <th>TX</th>\n",
       "      <td>32826.0</td>\n",
       "    </tr>\n",
       "    <tr>\n",
       "      <th>FL</th>\n",
       "      <td>25974.0</td>\n",
       "    </tr>\n",
       "    <tr>\n",
       "      <th>NY</th>\n",
       "      <td>17540.0</td>\n",
       "    </tr>\n",
       "    <tr>\n",
       "      <th>AZ</th>\n",
       "      <td>16083.0</td>\n",
       "    </tr>\n",
       "    <tr>\n",
       "      <th>PA</th>\n",
       "      <td>13278.0</td>\n",
       "    </tr>\n",
       "    <tr>\n",
       "      <th>GA</th>\n",
       "      <td>12315.0</td>\n",
       "    </tr>\n",
       "    <tr>\n",
       "      <th>OH</th>\n",
       "      <td>11933.0</td>\n",
       "    </tr>\n",
       "    <tr>\n",
       "      <th>NC</th>\n",
       "      <td>10895.0</td>\n",
       "    </tr>\n",
       "    <tr>\n",
       "      <th>TN</th>\n",
       "      <td>9407.0</td>\n",
       "    </tr>\n",
       "    <tr>\n",
       "      <th>MI</th>\n",
       "      <td>9271.0</td>\n",
       "    </tr>\n",
       "    <tr>\n",
       "      <th>IL</th>\n",
       "      <td>7441.0</td>\n",
       "    </tr>\n",
       "    <tr>\n",
       "      <th>KY</th>\n",
       "      <td>7227.0</td>\n",
       "    </tr>\n",
       "    <tr>\n",
       "      <th>NJ</th>\n",
       "      <td>6842.0</td>\n",
       "    </tr>\n",
       "    <tr>\n",
       "      <th>VA</th>\n",
       "      <td>6446.0</td>\n",
       "    </tr>\n",
       "    <tr>\n",
       "      <th>SC</th>\n",
       "      <td>6423.0</td>\n",
       "    </tr>\n",
       "    <tr>\n",
       "      <th>AL</th>\n",
       "      <td>6381.0</td>\n",
       "    </tr>\n",
       "    <tr>\n",
       "      <th>MO</th>\n",
       "      <td>6244.0</td>\n",
       "    </tr>\n",
       "    <tr>\n",
       "      <th>IN</th>\n",
       "      <td>5791.0</td>\n",
       "    </tr>\n",
       "    <tr>\n",
       "      <th>PR</th>\n",
       "      <td>4510.0</td>\n",
       "    </tr>\n",
       "    <tr>\n",
       "      <th>NV</th>\n",
       "      <td>4407.0</td>\n",
       "    </tr>\n",
       "    <tr>\n",
       "      <th>OK</th>\n",
       "      <td>4162.0</td>\n",
       "    </tr>\n",
       "    <tr>\n",
       "      <th>MD</th>\n",
       "      <td>4001.0</td>\n",
       "    </tr>\n",
       "    <tr>\n",
       "      <th>WA</th>\n",
       "      <td>3832.0</td>\n",
       "    </tr>\n",
       "    <tr>\n",
       "      <th>MS</th>\n",
       "      <td>3655.0</td>\n",
       "    </tr>\n",
       "    <tr>\n",
       "      <th>WI</th>\n",
       "      <td>3645.0</td>\n",
       "    </tr>\n",
       "    <tr>\n",
       "      <th>LA</th>\n",
       "      <td>3620.0</td>\n",
       "    </tr>\n",
       "    <tr>\n",
       "      <th>MA</th>\n",
       "      <td>3610.0</td>\n",
       "    </tr>\n",
       "    <tr>\n",
       "      <th>AR</th>\n",
       "      <td>3576.0</td>\n",
       "    </tr>\n",
       "    <tr>\n",
       "      <th>CO</th>\n",
       "      <td>2825.0</td>\n",
       "    </tr>\n",
       "    <tr>\n",
       "      <th>CT</th>\n",
       "      <td>2691.0</td>\n",
       "    </tr>\n",
       "    <tr>\n",
       "      <th>WV</th>\n",
       "      <td>2499.0</td>\n",
       "    </tr>\n",
       "    <tr>\n",
       "      <th>KS</th>\n",
       "      <td>2457.0</td>\n",
       "    </tr>\n",
       "    <tr>\n",
       "      <th>OR</th>\n",
       "      <td>2405.0</td>\n",
       "    </tr>\n",
       "    <tr>\n",
       "      <th>MN</th>\n",
       "      <td>2372.0</td>\n",
       "    </tr>\n",
       "    <tr>\n",
       "      <th>NM</th>\n",
       "      <td>1894.0</td>\n",
       "    </tr>\n",
       "    <tr>\n",
       "      <th>IA</th>\n",
       "      <td>1862.0</td>\n",
       "    </tr>\n",
       "    <tr>\n",
       "      <th>ID</th>\n",
       "      <td>1524.0</td>\n",
       "    </tr>\n",
       "    <tr>\n",
       "      <th>NE</th>\n",
       "      <td>1212.0</td>\n",
       "    </tr>\n",
       "    <tr>\n",
       "      <th>MT</th>\n",
       "      <td>1172.0</td>\n",
       "    </tr>\n",
       "  </tbody>\n",
       "</table>\n",
       "</div>"
      ],
      "text/plain": [
       "       deaths_covid\n",
       "state              \n",
       "CA          35046.0\n",
       "TX          32826.0\n",
       "FL          25974.0\n",
       "NY          17540.0\n",
       "AZ          16083.0\n",
       "PA          13278.0\n",
       "GA          12315.0\n",
       "OH          11933.0\n",
       "NC          10895.0\n",
       "TN           9407.0\n",
       "MI           9271.0\n",
       "IL           7441.0\n",
       "KY           7227.0\n",
       "NJ           6842.0\n",
       "VA           6446.0\n",
       "SC           6423.0\n",
       "AL           6381.0\n",
       "MO           6244.0\n",
       "IN           5791.0\n",
       "PR           4510.0\n",
       "NV           4407.0\n",
       "OK           4162.0\n",
       "MD           4001.0\n",
       "WA           3832.0\n",
       "MS           3655.0\n",
       "WI           3645.0\n",
       "LA           3620.0\n",
       "MA           3610.0\n",
       "AR           3576.0\n",
       "CO           2825.0\n",
       "CT           2691.0\n",
       "WV           2499.0\n",
       "KS           2457.0\n",
       "OR           2405.0\n",
       "MN           2372.0\n",
       "NM           1894.0\n",
       "IA           1862.0\n",
       "ID           1524.0\n",
       "NE           1212.0\n",
       "MT           1172.0"
      ]
     },
     "execution_count": 77,
     "metadata": {},
     "output_type": "execute_result"
    }
   ],
   "source": [
    "muertes_covid.sort_values(by='deaths_covid',ascending=False).head(40)"
   ]
  },
  {
   "cell_type": "markdown",
   "metadata": {},
   "source": [
    "# # 7 - ¿Qué relación presenta la falta de personal médico, con la cantidad de muertes por covid durante el año 2021?"
   ]
  },
  {
   "cell_type": "code",
   "execution_count": 107,
   "metadata": {},
   "outputs": [
    {
     "name": "stderr",
     "output_type": "stream",
     "text": [
      "C:\\Users\\User\\AppData\\Local\\Temp\\ipykernel_10596\\2434834743.py:2: SettingWithCopyWarning: \n",
      "A value is trying to be set on a copy of a slice from a DataFrame.\n",
      "Try using .loc[row_indexer,col_indexer] = value instead\n",
      "\n",
      "See the caveats in the documentation: https://pandas.pydata.org/pandas-docs/stable/user_guide/indexing.html#returning-a-view-versus-a-copy\n",
      "  respuesta7['critical_staffing_shortage_today_yes'] = respuesta7['critical_staffing_shortage_today_yes'].fillna(0)\n",
      "C:\\Users\\User\\AppData\\Local\\Temp\\ipykernel_10596\\2434834743.py:3: SettingWithCopyWarning: \n",
      "A value is trying to be set on a copy of a slice from a DataFrame.\n",
      "Try using .loc[row_indexer,col_indexer] = value instead\n",
      "\n",
      "See the caveats in the documentation: https://pandas.pydata.org/pandas-docs/stable/user_guide/indexing.html#returning-a-view-versus-a-copy\n",
      "  respuesta7['critical_staffing_shortage_today_yes'] = respuesta7['critical_staffing_shortage_today_yes'].astype(float, errors= 'raise')\n",
      "C:\\Users\\User\\AppData\\Local\\Temp\\ipykernel_10596\\2434834743.py:4: SettingWithCopyWarning: \n",
      "A value is trying to be set on a copy of a slice from a DataFrame.\n",
      "Try using .loc[row_indexer,col_indexer] = value instead\n",
      "\n",
      "See the caveats in the documentation: https://pandas.pydata.org/pandas-docs/stable/user_guide/indexing.html#returning-a-view-versus-a-copy\n",
      "  respuesta7['deaths_covid'] = respuesta7['deaths_covid'].fillna(0)\n",
      "C:\\Users\\User\\AppData\\Local\\Temp\\ipykernel_10596\\2434834743.py:5: SettingWithCopyWarning: \n",
      "A value is trying to be set on a copy of a slice from a DataFrame.\n",
      "Try using .loc[row_indexer,col_indexer] = value instead\n",
      "\n",
      "See the caveats in the documentation: https://pandas.pydata.org/pandas-docs/stable/user_guide/indexing.html#returning-a-view-versus-a-copy\n",
      "  respuesta7['deaths_covid'] = respuesta7['deaths_covid'].astype(float, errors= 'raise')\n"
     ]
    }
   ],
   "source": [
    "respuesta7= resultados_df[['state','date','critical_staffing_shortage_today_yes','deaths_covid']]\n",
    "respuesta7['critical_staffing_shortage_today_yes'] = respuesta7['critical_staffing_shortage_today_yes'].fillna(0)\n",
    "respuesta7['critical_staffing_shortage_today_yes'] = respuesta7['critical_staffing_shortage_today_yes'].astype(float, errors= 'raise')\n",
    "respuesta7['deaths_covid'] = respuesta7['deaths_covid'].fillna(0)\n",
    "respuesta7['deaths_covid'] = respuesta7['deaths_covid'].astype(float, errors= 'raise')"
   ]
  },
  {
   "cell_type": "code",
   "execution_count": 108,
   "metadata": {},
   "outputs": [],
   "source": [
    "respuesta7= respuesta7.loc[(respuesta7['date']>= '2021-01-01')&(respuesta7['date']<='2021-12-31')]"
   ]
  },
  {
   "cell_type": "code",
   "execution_count": 109,
   "metadata": {},
   "outputs": [
    {
     "name": "stderr",
     "output_type": "stream",
     "text": [
      "C:\\Users\\User\\AppData\\Local\\Temp\\ipykernel_10596\\2044084193.py:1: SettingWithCopyWarning: \n",
      "A value is trying to be set on a copy of a slice from a DataFrame.\n",
      "Try using .loc[row_indexer,col_indexer] = value instead\n",
      "\n",
      "See the caveats in the documentation: https://pandas.pydata.org/pandas-docs/stable/user_guide/indexing.html#returning-a-view-versus-a-copy\n",
      "  respuesta7[\"date\"]= pd.to_datetime(respuesta7['date'])\n",
      "C:\\Users\\User\\AppData\\Local\\Temp\\ipykernel_10596\\2044084193.py:2: SettingWithCopyWarning: \n",
      "A value is trying to be set on a copy of a slice from a DataFrame.\n",
      "Try using .loc[row_indexer,col_indexer] = value instead\n",
      "\n",
      "See the caveats in the documentation: https://pandas.pydata.org/pandas-docs/stable/user_guide/indexing.html#returning-a-view-versus-a-copy\n",
      "  respuesta7[\"Month\"]= respuesta7['date'].dt.month\n"
     ]
    }
   ],
   "source": [
    "respuesta7[\"date\"]= pd.to_datetime(respuesta7['date'])\n",
    "respuesta7[\"Month\"]= respuesta7['date'].dt.month "
   ]
  },
  {
   "cell_type": "code",
   "execution_count": 110,
   "metadata": {},
   "outputs": [],
   "source": [
    "faltapersonal= respuesta7.groupby(\"date\")['critical_staffing_shortage_today_yes'].sum()"
   ]
  },
  {
   "cell_type": "code",
   "execution_count": 111,
   "metadata": {},
   "outputs": [],
   "source": [
    "faltapersonal= (faltapersonal.to_frame())"
   ]
  },
  {
   "cell_type": "code",
   "execution_count": 112,
   "metadata": {},
   "outputs": [],
   "source": [
    "faltapersonal['totalmuertes']=respuesta6.groupby(\"date\")['deaths_covid'].sum()"
   ]
  },
  {
   "cell_type": "code",
   "execution_count": 113,
   "metadata": {},
   "outputs": [],
   "source": [
    "respuesta7=respuesta7.sort_values(by='date', ascending=True )"
   ]
  },
  {
   "cell_type": "code",
   "execution_count": 86,
   "metadata": {},
   "outputs": [
    {
     "data": {
      "text/plain": [
       "[<matplotlib.lines.Line2D at 0x22344f3d780>,\n",
       " <matplotlib.lines.Line2D at 0x22344f3d9f0>]"
      ]
     },
     "execution_count": 86,
     "metadata": {},
     "output_type": "execute_result"
    },
    {
     "data": {
      "image/png": "[encoded data removed]",
      "text/plain": [
       "<Figure size 720x576 with 1 Axes>"
      ]
     },
     "metadata": {
      "needs_background": "light"
     },
     "output_type": "display_data"
    }
   ],
   "source": [
    "\n",
    "plt.figure(figsize = (10,8))\n",
    "x=respuesta7['date']\n",
    "y=respuesta7['critical_staffing_shortage_today_yes']\n",
    "y1=respuesta7['deaths_covid']\n",
    "plt.xlabel('2021')\n",
    "plt.plot(x, y, color= 'green', alpha= 0.25)\n",
    "plt.plot(x,y1, color= 'blue', alpha= 0.25)\n",
    "\n"
   ]
  },
  {
   "cell_type": "code",
   "execution_count": 87,
   "metadata": {},
   "outputs": [],
   "source": [
    "\n",
    "from scipy import stats\n",
    "from scipy.stats import pearsonr"
   ]
  },
  {
   "cell_type": "code",
   "execution_count": 115,
   "metadata": {},
   "outputs": [],
   "source": [
    "a= respuesta7['critical_staffing_shortage_today_yes']\n",
    "b= respuesta7['deaths_covid']"
   ]
  },
  {
   "cell_type": "code",
   "execution_count": 117,
   "metadata": {},
   "outputs": [
    {
     "name": "stdout",
     "output_type": "stream",
     "text": [
      "Correlación Pearson:  0.5753600313089169\n"
     ]
    }
   ],
   "source": [
    "print('Correlación Pearson: ', respuesta7['critical_staffing_shortage_today_yes'].corr(respuesta7['deaths_covid'], method='pearson'))\n"
   ]
  },
  {
   "cell_type": "markdown",
   "metadata": {},
   "source": [
    "# # # se observa que cuando hubo picos de falta de personal(principios de 2021), las muertes fueron mayores, pero que ambas variables presentan un nivel de correlacion poco significativo"
   ]
  },
  {
   "cell_type": "markdown",
   "metadata": {},
   "source": [
    "# # 8 - Siguiendo las respuestas anteriores, ¿cuál fue el peor mes de la pandemia para USA en su conjunto? Puede utilizar otras medidas que considere necesarias."
   ]
  },
  {
   "cell_type": "code",
   "execution_count": 387,
   "metadata": {},
   "outputs": [],
   "source": [
    "respuesta8= resultados_df[['state','date','staffed_icu_adult_patients_confirmed_covid', 'staffed_icu_pediatric_patients_confirmed_covid','total_adult_patients_hospitalized_confirmed_covid','deaths_covid','total_pediatric_patients_hospitalized_confirmed_covid']]\n",
    "respuesta8= respuesta8.loc[(respuesta8['date']>= '2020-01-01')&(respuesta8['date']<='2021-12-31')] \n",
    "respuesta8['total_adult_patients_hospitalized_confirmed_covid'] = respuesta8['total_adult_patients_hospitalized_confirmed_covid'].fillna(0)\n",
    "respuesta8['total_pediatric_patients_hospitalized_confirmed_covid'] = respuesta8['total_pediatric_patients_hospitalized_confirmed_covid'].fillna(0)\n",
    "respuesta8['staffed_icu_adult_patients_confirmed_covid'] = respuesta8['staffed_icu_adult_patients_confirmed_covid'].fillna(0)\n",
    "respuesta8['staffed_icu_pediatric_patients_confirmed_covid'] = respuesta8['staffed_icu_pediatric_patients_confirmed_covid'].fillna(0)\n",
    "respuesta8['staffed_icu_adult_patients_confirmed_covid'] = respuesta8['staffed_icu_adult_patients_confirmed_covid'].astype(float, errors= 'raise')\n",
    "respuesta8['staffed_icu_pediatric_patients_confirmed_covid'] = respuesta8['staffed_icu_pediatric_patients_confirmed_covid'].astype(float, errors= 'raise')\n",
    "respuesta8['total_adult_patients_hospitalized_confirmed_covid'] = respuesta8['total_adult_patients_hospitalized_confirmed_covid'].astype(float, errors= 'raise')\n",
    "respuesta8['total_pediatric_patients_hospitalized_confirmed_covid'] = respuesta8['total_pediatric_patients_hospitalized_confirmed_covid'].astype(float, errors= 'raise')\n",
    "respuesta8['deaths_covid'] = respuesta8['deaths_covid'].fillna(0)\n",
    "respuesta8['deaths_covid'] = respuesta8['deaths_covid'].astype(float, errors= 'raise')\n",
    "\n",
    "respuesta8['Total_icu_covid']= respuesta8['staffed_icu_pediatric_patients_confirmed_covid']+respuesta8['staffed_icu_adult_patients_confirmed_covid']\n",
    "respuesta8['Total_hospitalized_covid']= respuesta8['total_adult_patients_hospitalized_confirmed_covid']+respuesta8['total_pediatric_patients_hospitalized_confirmed_covid']"
   ]
  },
  {
   "cell_type": "code",
   "execution_count": 388,
   "metadata": {},
   "outputs": [],
   "source": [
    "respuesta8[\"date\"]= pd.to_datetime(respuesta8['date'])\n",
    "respuesta8[\"Month\"]= respuesta8['date'].dt.month\n",
    "respuesta8= respuesta8.sort_values(by='date', ascending= True)"
   ]
  },
  {
   "cell_type": "code",
   "execution_count": 389,
   "metadata": {},
   "outputs": [],
   "source": [
    "respuesta_8= respuesta8.set_index('date')"
   ]
  },
  {
   "cell_type": "code",
   "execution_count": 390,
   "metadata": {},
   "outputs": [
    {
     "data": {
      "text/plain": [
       "29722.0"
      ]
     },
     "execution_count": 390,
     "metadata": {},
     "output_type": "execute_result"
    }
   ],
   "source": [
    "respuesta_8['Total_hospitalized_covid'].max()"
   ]
  },
  {
   "cell_type": "code",
   "execution_count": 391,
   "metadata": {},
   "outputs": [
    {
     "data": {
      "text/plain": [
       "Timestamp('2021-01-14 00:00:00')"
      ]
     },
     "execution_count": 391,
     "metadata": {},
     "output_type": "execute_result"
    }
   ],
   "source": [
    "respuesta_8['Total_hospitalized_covid'].idxmax()"
   ]
  },
  {
   "cell_type": "code",
   "execution_count": 392,
   "metadata": {},
   "outputs": [
    {
     "data": {
      "text/plain": [
       "4926.0"
      ]
     },
     "execution_count": 392,
     "metadata": {},
     "output_type": "execute_result"
    }
   ],
   "source": [
    "respuesta_8['Total_icu_covid'].max()\n"
   ]
  },
  {
   "cell_type": "code",
   "execution_count": 393,
   "metadata": {},
   "outputs": [
    {
     "data": {
      "text/plain": [
       "Timestamp('2021-01-11 00:00:00')"
      ]
     },
     "execution_count": 393,
     "metadata": {},
     "output_type": "execute_result"
    }
   ],
   "source": [
    "respuesta_8['Total_icu_covid'].idxmax()"
   ]
  },
  {
   "cell_type": "code",
   "execution_count": 394,
   "metadata": {},
   "outputs": [
    {
     "data": {
      "text/plain": [
       "2251.0"
      ]
     },
     "execution_count": 394,
     "metadata": {},
     "output_type": "execute_result"
    }
   ],
   "source": [
    "respuesta_8['deaths_covid'].max()"
   ]
  },
  {
   "cell_type": "code",
   "execution_count": 395,
   "metadata": {},
   "outputs": [
    {
     "data": {
      "text/plain": [
       "Timestamp('2020-05-28 00:00:00')"
      ]
     },
     "execution_count": 395,
     "metadata": {},
     "output_type": "execute_result"
    }
   ],
   "source": [
    "respuesta_8['deaths_covid'].idxmax()"
   ]
  },
  {
   "cell_type": "code",
   "execution_count": 341,
   "metadata": {},
   "outputs": [
    {
     "data": {
      "text/plain": [
       "[<matplotlib.lines.Line2D at 0x211b87268f0>]"
      ]
     },
     "execution_count": 341,
     "metadata": {},
     "output_type": "execute_result"
    },
    {
     "data": {
      "image/png": "[encoded data removed]",
      "text/plain": [
       "<Figure size 720x576 with 1 Axes>"
      ]
     },
     "metadata": {
      "needs_background": "light"
     },
     "output_type": "display_data"
    }
   ],
   "source": [
    "\n",
    "plt.figure(figsize = (10,8))\n",
    "x_0=respuesta8['date']\n",
    "y_0=respuesta8['Total_icu_covid']\n",
    "y_1=respuesta8['Total_hospitalized_covid']\n",
    "y_2=respuesta8['deaths_covid']\n",
    "plt.xlabel('2020-2021')\n",
    "plt.plot(x_0, y_0, color= 'red', alpha= 0.4)\n",
    "plt.plot(x_0,y_1, color= 'blue', alpha= 0.4)\n",
    "plt.plot(x_0,y_2, color= 'black', alpha= 0.4)\n"
   ]
  },
  {
   "cell_type": "markdown",
   "metadata": {},
   "source": [
    "# # # se puede observar en base a este y otros graficos que a pesar que el pico de muertes por covid fue en mayo de 2020, el pico de contagios ocurrio en enero de 2021, asi como la ocupacion de camas de terapia. Por lo tanto si hablamos de vidas humanas considero que el peor mes es mayo 2020, pero si hablamos de capacidad hospitalizaria podemos decir que fue enero 2021, esto tambien se condice con lo observado durante la respuesta 7 donde vemos que le mes que mas faltante de personal hubo fue en Enero 2021"
   ]
  },
  {
   "cell_type": "markdown",
   "metadata": {},
   "source": [
    "# # 9 - ¿Qué recomendaciones haría, ex post, con respecto a los recursos hospitalarios y su uso?"
   ]
  },
  {
   "cell_type": "markdown",
   "metadata": {},
   "source": [
    "# # # se puede observar en el grafico anterior que las muertes dejan de tener picos bruscos a partir de diciembre 2020, lo cual conicide con el lanzamiento de la vacunacion a la poblacion(14/12/2020-https://www.france24.com/es/ee-uu-y-canad%C3%A1/20201214-covid19-inicia-vacunaci%C3%B3n-estados-unidos), pese a que en enero 2021 tuvo un pico de contagios, esto en proporcion a la cantidad de muertes ocurridas durante dicho periodo es muy bajo, se observa que durante los primeros de pandemia sin vacuna las muertes eran mayor en proporcion con los hospitalizados. Mi recomendacion en cuanto al uso hospitalario en base a esto y lo observado en el grafico de la pregunta 7(staff faltante) y el porcentaje obtenido en la pregunta 5, es que ante una crisis de esta magnitud alrededor de un 30% de las camas de terapia se utilizan solo para esta patologia o cualquier otra de similares caracteristas y que va a requerir de capacitar mayor cantidad de personal, ya que se observa que pese a que durante el pico hubo faltante esto es  una constante en casi todo el periodo abarcado, es decir los picos en personal faltante no son tan pronunciados. Es necesario realizar para tal fin capacitar todo el personal posible sea medico o no, ante una eventualidad de esta magnitud     "
   ]
  }
 ],
 "metadata": {
  "kernelspec": {
   "display_name": "Python 3.10.5 64-bit",
   "language": "python",
   "name": "python3"
  },
  "language_info": {
   "codemirror_mode": {
    "name": "ipython",
    "version": 3
   },
   "file_extension": ".py",
   "mimetype": "text/x-python",
   "name": "python",
   "nbconvert_exporter": "python",
   "pygments_lexer": "ipython3",
   "version": "3.10.6"
  },
  "orig_nbformat": 4,
  "vscode": {
   "interpreter": {
    "hash": "afb734500600fd355917ca529030176ea0ca205570884b88f2f6f7d791fd3fbe"
   }
  }
 },
 "nbformat": 4,
 "nbformat_minor": 2
}
